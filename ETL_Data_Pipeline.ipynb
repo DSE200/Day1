{
  "cells": [
    {
      "cell_type": "markdown",
      "metadata": {},
      "source": [
        "# ETL Data Pipeline: Extract, Transform, Load\n",
        "\n",
        "This notebook demonstrates a complete ETL workflow using a movies dataset from Kaggle:\n",
        "- **Extract**: Load data using kagglehub\n",
        "- **Transform**: Clean and process data through multiple steps\n",
        "- **Load**: Save processed data in different formats\n",
        "\n",
        "Each transformation step is visualized to show its impact on the dataset.\n"
      ]
    },
    {
      "cell_type": "code",
      "execution_count": 1,
      "metadata": {},
      "outputs": [
        {
          "name": "stderr",
          "output_type": "stream",
          "text": [
            "/Users/ekirimlioglu/Cursor/Rickg/DSE200-Day1/.venv/lib/python3.13/site-packages/tqdm/auto.py:21: TqdmWarning: IProgress not found. Please update jupyter and ipywidgets. See https://ipywidgets.readthedocs.io/en/stable/user_install.html\n",
            "  from .autonotebook import tqdm as notebook_tqdm\n"
          ]
        }
      ],
      "source": [
        "import pandas as pd\n",
        "import matplotlib.pyplot as plt\n",
        "import seaborn as sns\n",
        "from pathlib import Path\n",
        "import kagglehub\n"
      ]
    },
    {
      "cell_type": "markdown",
      "metadata": {},
      "source": [
        "## EXTRACT: Load Data from Kaggle\n"
      ]
    },
    {
      "cell_type": "code",
      "execution_count": 2,
      "metadata": {},
      "outputs": [
        {
          "name": "stdout",
          "output_type": "stream",
          "text": [
            "Path to dataset files: /Users/ekirimlioglu/.cache/kagglehub/datasets/bharatnatrayn/movies-dataset-for-feature-extracion-prediction/versions/1\n",
            "Dataset loaded: (9999, 9)\n",
            "Columns: ['MOVIES', 'YEAR', 'GENRE', 'RATING', 'ONE-LINE', 'STARS', 'VOTES', 'RunTime', 'Gross']\n",
            "Missing values: 16861\n"
          ]
        },
        {
          "data": {
            "text/html": [
              "<div>\n",
              "<style scoped>\n",
              "    .dataframe tbody tr th:only-of-type {\n",
              "        vertical-align: middle;\n",
              "    }\n",
              "\n",
              "    .dataframe tbody tr th {\n",
              "        vertical-align: top;\n",
              "    }\n",
              "\n",
              "    .dataframe thead th {\n",
              "        text-align: right;\n",
              "    }\n",
              "</style>\n",
              "<table border=\"1\" class=\"dataframe\">\n",
              "  <thead>\n",
              "    <tr style=\"text-align: right;\">\n",
              "      <th></th>\n",
              "      <th>MOVIES</th>\n",
              "      <th>YEAR</th>\n",
              "      <th>GENRE</th>\n",
              "      <th>RATING</th>\n",
              "      <th>ONE-LINE</th>\n",
              "      <th>STARS</th>\n",
              "      <th>VOTES</th>\n",
              "      <th>RunTime</th>\n",
              "      <th>Gross</th>\n",
              "    </tr>\n",
              "  </thead>\n",
              "  <tbody>\n",
              "    <tr>\n",
              "      <th>0</th>\n",
              "      <td>Blood Red Sky</td>\n",
              "      <td>(2021)</td>\n",
              "      <td>\\nAction, Horror, Thriller</td>\n",
              "      <td>6.1</td>\n",
              "      <td>\\nA woman with a mysterious illness is forced ...</td>\n",
              "      <td>\\n    Director:\\nPeter Thorwarth\\n| \\n    Star...</td>\n",
              "      <td>21,062</td>\n",
              "      <td>121.0</td>\n",
              "      <td>NaN</td>\n",
              "    </tr>\n",
              "    <tr>\n",
              "      <th>1</th>\n",
              "      <td>Masters of the Universe: Revelation</td>\n",
              "      <td>(2021– )</td>\n",
              "      <td>\\nAnimation, Action, Adventure</td>\n",
              "      <td>5.0</td>\n",
              "      <td>\\nThe war for Eternia begins again in what may...</td>\n",
              "      <td>\\n            \\n    Stars:\\nChris Wood, \\nSara...</td>\n",
              "      <td>17,870</td>\n",
              "      <td>25.0</td>\n",
              "      <td>NaN</td>\n",
              "    </tr>\n",
              "    <tr>\n",
              "      <th>2</th>\n",
              "      <td>The Walking Dead</td>\n",
              "      <td>(2010–2022)</td>\n",
              "      <td>\\nDrama, Horror, Thriller</td>\n",
              "      <td>8.2</td>\n",
              "      <td>\\nSheriff Deputy Rick Grimes wakes up from a c...</td>\n",
              "      <td>\\n            \\n    Stars:\\nAndrew Lincoln, \\n...</td>\n",
              "      <td>885,805</td>\n",
              "      <td>44.0</td>\n",
              "      <td>NaN</td>\n",
              "    </tr>\n",
              "    <tr>\n",
              "      <th>3</th>\n",
              "      <td>Rick and Morty</td>\n",
              "      <td>(2013– )</td>\n",
              "      <td>\\nAnimation, Adventure, Comedy</td>\n",
              "      <td>9.2</td>\n",
              "      <td>\\nAn animated series that follows the exploits...</td>\n",
              "      <td>\\n            \\n    Stars:\\nJustin Roiland, \\n...</td>\n",
              "      <td>414,849</td>\n",
              "      <td>23.0</td>\n",
              "      <td>NaN</td>\n",
              "    </tr>\n",
              "    <tr>\n",
              "      <th>4</th>\n",
              "      <td>Army of Thieves</td>\n",
              "      <td>(2021)</td>\n",
              "      <td>\\nAction, Crime, Horror</td>\n",
              "      <td>NaN</td>\n",
              "      <td>\\nA prequel, set before the events of Army of ...</td>\n",
              "      <td>\\n    Director:\\nMatthias Schweighöfer\\n| \\n  ...</td>\n",
              "      <td>NaN</td>\n",
              "      <td>NaN</td>\n",
              "      <td>NaN</td>\n",
              "    </tr>\n",
              "  </tbody>\n",
              "</table>\n",
              "</div>"
            ],
            "text/plain": [
              "                                MOVIES         YEAR  \\\n",
              "0                        Blood Red Sky       (2021)   \n",
              "1  Masters of the Universe: Revelation     (2021– )   \n",
              "2                     The Walking Dead  (2010–2022)   \n",
              "3                       Rick and Morty     (2013– )   \n",
              "4                      Army of Thieves       (2021)   \n",
              "\n",
              "                                        GENRE  RATING  \\\n",
              "0      \\nAction, Horror, Thriller                 6.1   \n",
              "1  \\nAnimation, Action, Adventure                 5.0   \n",
              "2       \\nDrama, Horror, Thriller                 8.2   \n",
              "3  \\nAnimation, Adventure, Comedy                 9.2   \n",
              "4         \\nAction, Crime, Horror                 NaN   \n",
              "\n",
              "                                            ONE-LINE  \\\n",
              "0  \\nA woman with a mysterious illness is forced ...   \n",
              "1  \\nThe war for Eternia begins again in what may...   \n",
              "2  \\nSheriff Deputy Rick Grimes wakes up from a c...   \n",
              "3  \\nAn animated series that follows the exploits...   \n",
              "4  \\nA prequel, set before the events of Army of ...   \n",
              "\n",
              "                                               STARS    VOTES  RunTime Gross  \n",
              "0  \\n    Director:\\nPeter Thorwarth\\n| \\n    Star...   21,062    121.0   NaN  \n",
              "1  \\n            \\n    Stars:\\nChris Wood, \\nSara...   17,870     25.0   NaN  \n",
              "2  \\n            \\n    Stars:\\nAndrew Lincoln, \\n...  885,805     44.0   NaN  \n",
              "3  \\n            \\n    Stars:\\nJustin Roiland, \\n...  414,849     23.0   NaN  \n",
              "4  \\n    Director:\\nMatthias Schweighöfer\\n| \\n  ...      NaN      NaN   NaN  "
            ]
          },
          "execution_count": 2,
          "metadata": {},
          "output_type": "execute_result"
        }
      ],
      "source": [
        "# Extract: Download movies dataset using kagglehub\n",
        "path = kagglehub.dataset_download(\"bharatnatrayn/movies-dataset-for-feature-extracion-prediction\")\n",
        "print(\"Path to dataset files:\", path)\n",
        "\n",
        "# Load the movies dataset\n",
        "data_path = Path(path) / \"movies.csv\"\n",
        "raw_df = pd.read_csv(data_path)\n",
        "\n",
        "print(f\"Dataset loaded: {raw_df.shape}\")\n",
        "print(f\"Columns: {list(raw_df.columns)}\")\n",
        "print(f\"Missing values: {raw_df.isnull().sum().sum()}\")\n",
        "raw_df.head()\n"
      ]
    },
    {
      "cell_type": "code",
      "execution_count": 3,
      "metadata": {},
      "outputs": [
        {
          "data": {
            "image/png": "[encoded data removed]",
            "text/plain": [
              "<Figure size 1500x400 with 4 Axes>"
            ]
          },
          "metadata": {},
          "output_type": "display_data"
        }
      ],
      "source": [
        "# Visualize raw data characteristics\n",
        "fig, axes = plt.subplots(1, 3, figsize=(15, 4))\n",
        "\n",
        "# Missing data pattern\n",
        "sns.heatmap(raw_df.isnull(), ax=axes[0], cbar=True, yticklabels=False, cmap='viridis')\n",
        "axes[0].set_title('Raw Data: Missing Values')\n",
        "\n",
        "# Data types distribution\n",
        "dtype_counts = raw_df.dtypes.value_counts()\n",
        "axes[1].pie(dtype_counts.values, labels=dtype_counts.index, autopct='%1.0f%%')\n",
        "axes[1].set_title('Raw Data: Data Types')\n",
        "\n",
        "# Rating distribution\n",
        "if 'RATING' in raw_df.columns:\n",
        "    axes[2].hist(raw_df['RATING'].dropna(), bins=30, alpha=0.7, color='blue')\n",
        "    axes[2].set_title('Raw Data: Rating Distribution')\n",
        "    axes[2].set_xlabel('Rating')\n",
        "else:\n",
        "    axes[2].text(0.5, 0.5, 'No rating column found', ha='center', va='center')\n",
        "    axes[2].set_title('Raw Data: Sample Distribution')\n",
        "\n",
        "plt.tight_layout()\n",
        "plt.show()\n"
      ]
    },
    {
      "cell_type": "markdown",
      "metadata": {},
      "source": [
        "## TRANSFORM: Data Processing Pipeline\n",
        "\n",
        "Clean and process the raw data through multiple transformation steps.\n"
      ]
    },
    {
      "cell_type": "code",
      "execution_count": 4,
      "metadata": {},
      "outputs": [
        {
          "name": "stdout",
          "output_type": "stream",
          "text": [
            "Starting transformation pipeline...\n",
            "Original data: (9999, 9), 16861 missing values\n"
          ]
        }
      ],
      "source": [
        "# Initialize transformation tracking\n",
        "df = raw_df.copy()\n",
        "transformations = []\n",
        "\n",
        "def track_transformation(step_name, before_df, after_df):\n",
        "    \"\"\"Track how each transformation affects the dataset\"\"\"\n",
        "    change = {\n",
        "        'Step': step_name,\n",
        "        'Rows': f\"{len(before_df)} → {len(after_df)}\",\n",
        "        'Columns': f\"{len(before_df.columns)} → {len(after_df.columns)}\",\n",
        "        'Missing': f\"{before_df.isnull().sum().sum()} → {after_df.isnull().sum().sum()}\",\n",
        "        'Rows_After': len(after_df),\n",
        "        'Cols_After': len(after_df.columns),\n",
        "        'Missing_After': after_df.isnull().sum().sum()\n",
        "    }\n",
        "    transformations.append(change)\n",
        "    print(f\"{step_name}: {change['Rows']}, {change['Missing']} missing\")\n",
        "\n",
        "print(\"Starting transformation pipeline...\")\n",
        "print(f\"Original data: {df.shape}, {df.isnull().sum().sum()} missing values\")\n"
      ]
    },
    {
      "cell_type": "code",
      "execution_count": 5,
      "metadata": {},
      "outputs": [
        {
          "name": "stdout",
          "output_type": "stream",
          "text": [
            "1. Clean names & remove missing movies: 9999 → 9999, 16861 → 16861 missing\n"
          ]
        }
      ],
      "source": [
        "# Step 1: Clean column names and remove unnecessary columns\n",
        "before_df = df.copy()\n",
        "\n",
        "# Standardize column names\n",
        "df.columns = df.columns.str.upper().str.strip()\n",
        "\n",
        "# Remove rows with missing essential data (movies without names)\n",
        "df = df.dropna(subset=['MOVIES'])\n",
        "\n",
        "track_transformation('1. Clean names & remove missing movies', before_df, df)\n"
      ]
    },
    {
      "cell_type": "code",
      "execution_count": 6,
      "metadata": {},
      "outputs": [
        {
          "name": "stdout",
          "output_type": "stream",
          "text": [
            "2. Handle missing values: 9999 → 6779, 16861 → 0 missing\n"
          ]
        },
        {
          "data": {
            "text/html": [
              "<div>\n",
              "<style scoped>\n",
              "    .dataframe tbody tr th:only-of-type {\n",
              "        vertical-align: middle;\n",
              "    }\n",
              "\n",
              "    .dataframe tbody tr th {\n",
              "        vertical-align: top;\n",
              "    }\n",
              "\n",
              "    .dataframe thead th {\n",
              "        text-align: right;\n",
              "    }\n",
              "</style>\n",
              "<table border=\"1\" class=\"dataframe\">\n",
              "  <thead>\n",
              "    <tr style=\"text-align: right;\">\n",
              "      <th></th>\n",
              "      <th>MOVIES</th>\n",
              "      <th>YEAR</th>\n",
              "      <th>GENRE</th>\n",
              "      <th>RATING</th>\n",
              "      <th>ONE-LINE</th>\n",
              "      <th>STARS</th>\n",
              "      <th>VOTES</th>\n",
              "      <th>RUNTIME</th>\n",
              "    </tr>\n",
              "  </thead>\n",
              "  <tbody>\n",
              "    <tr>\n",
              "      <th>0</th>\n",
              "      <td>Blood Red Sky</td>\n",
              "      <td>(2021)</td>\n",
              "      <td>\\nAction, Horror, Thriller</td>\n",
              "      <td>6.1</td>\n",
              "      <td>\\nA woman with a mysterious illness is forced ...</td>\n",
              "      <td>\\n    Director:\\nPeter Thorwarth\\n| \\n    Star...</td>\n",
              "      <td>21,062</td>\n",
              "      <td>121.0</td>\n",
              "    </tr>\n",
              "    <tr>\n",
              "      <th>1</th>\n",
              "      <td>Masters of the Universe: Revelation</td>\n",
              "      <td>(2021– )</td>\n",
              "      <td>\\nAnimation, Action, Adventure</td>\n",
              "      <td>5.0</td>\n",
              "      <td>\\nThe war for Eternia begins again in what may...</td>\n",
              "      <td>\\n            \\n    Stars:\\nChris Wood, \\nSara...</td>\n",
              "      <td>17,870</td>\n",
              "      <td>25.0</td>\n",
              "    </tr>\n",
              "    <tr>\n",
              "      <th>2</th>\n",
              "      <td>The Walking Dead</td>\n",
              "      <td>(2010–2022)</td>\n",
              "      <td>\\nDrama, Horror, Thriller</td>\n",
              "      <td>8.2</td>\n",
              "      <td>\\nSheriff Deputy Rick Grimes wakes up from a c...</td>\n",
              "      <td>\\n            \\n    Stars:\\nAndrew Lincoln, \\n...</td>\n",
              "      <td>885,805</td>\n",
              "      <td>44.0</td>\n",
              "    </tr>\n",
              "    <tr>\n",
              "      <th>3</th>\n",
              "      <td>Rick and Morty</td>\n",
              "      <td>(2013– )</td>\n",
              "      <td>\\nAnimation, Adventure, Comedy</td>\n",
              "      <td>9.2</td>\n",
              "      <td>\\nAn animated series that follows the exploits...</td>\n",
              "      <td>\\n            \\n    Stars:\\nJustin Roiland, \\n...</td>\n",
              "      <td>414,849</td>\n",
              "      <td>23.0</td>\n",
              "    </tr>\n",
              "    <tr>\n",
              "      <th>5</th>\n",
              "      <td>Outer Banks</td>\n",
              "      <td>(2020– )</td>\n",
              "      <td>\\nAction, Crime, Drama</td>\n",
              "      <td>7.6</td>\n",
              "      <td>\\nA group of teenagers from the wrong side of ...</td>\n",
              "      <td>\\n            \\n    Stars:\\nChase Stokes, \\nMa...</td>\n",
              "      <td>25,858</td>\n",
              "      <td>50.0</td>\n",
              "    </tr>\n",
              "  </tbody>\n",
              "</table>\n",
              "</div>"
            ],
            "text/plain": [
              "                                MOVIES         YEAR  \\\n",
              "0                        Blood Red Sky       (2021)   \n",
              "1  Masters of the Universe: Revelation     (2021– )   \n",
              "2                     The Walking Dead  (2010–2022)   \n",
              "3                       Rick and Morty     (2013– )   \n",
              "5                          Outer Banks     (2020– )   \n",
              "\n",
              "                                        GENRE  RATING  \\\n",
              "0      \\nAction, Horror, Thriller                 6.1   \n",
              "1  \\nAnimation, Action, Adventure                 5.0   \n",
              "2       \\nDrama, Horror, Thriller                 8.2   \n",
              "3  \\nAnimation, Adventure, Comedy                 9.2   \n",
              "5          \\nAction, Crime, Drama                 7.6   \n",
              "\n",
              "                                            ONE-LINE  \\\n",
              "0  \\nA woman with a mysterious illness is forced ...   \n",
              "1  \\nThe war for Eternia begins again in what may...   \n",
              "2  \\nSheriff Deputy Rick Grimes wakes up from a c...   \n",
              "3  \\nAn animated series that follows the exploits...   \n",
              "5  \\nA group of teenagers from the wrong side of ...   \n",
              "\n",
              "                                               STARS    VOTES  RUNTIME  \n",
              "0  \\n    Director:\\nPeter Thorwarth\\n| \\n    Star...   21,062    121.0  \n",
              "1  \\n            \\n    Stars:\\nChris Wood, \\nSara...   17,870     25.0  \n",
              "2  \\n            \\n    Stars:\\nAndrew Lincoln, \\n...  885,805     44.0  \n",
              "3  \\n            \\n    Stars:\\nJustin Roiland, \\n...  414,849     23.0  \n",
              "5  \\n            \\n    Stars:\\nChase Stokes, \\nMa...   25,858     50.0  "
            ]
          },
          "execution_count": 6,
          "metadata": {},
          "output_type": "execute_result"
        }
      ],
      "source": [
        "# Step 2: Further clean up missing values\n",
        "before_df = df.copy()\n",
        "\n",
        "# we may want a better clean up strategy which we will discuss in the future weeks\n",
        "# for now drop gross column since it has too many missing values\n",
        "df = df.drop(columns=['GROSS'])\n",
        "\n",
        "# drop rows with missing values\n",
        "df = df.dropna()\n",
        "\n",
        "track_transformation('2. Handle missing values', before_df, df)\n",
        "\n",
        "df.head()\n"
      ]
    },
    {
      "cell_type": "code",
      "execution_count": 7,
      "metadata": {},
      "outputs": [
        {
          "name": "stdout",
          "output_type": "stream",
          "text": [
            "3. Advanced cleaning & parsing: 6779 → 6779, 0 → 5327 missing\n"
          ]
        },
        {
          "data": {
            "text/html": [
              "<div>\n",
              "<style scoped>\n",
              "    .dataframe tbody tr th:only-of-type {\n",
              "        vertical-align: middle;\n",
              "    }\n",
              "\n",
              "    .dataframe tbody tr th {\n",
              "        vertical-align: top;\n",
              "    }\n",
              "\n",
              "    .dataframe thead th {\n",
              "        text-align: right;\n",
              "    }\n",
              "</style>\n",
              "<table border=\"1\" class=\"dataframe\">\n",
              "  <thead>\n",
              "    <tr style=\"text-align: right;\">\n",
              "      <th></th>\n",
              "      <th>MOVIES</th>\n",
              "      <th>RATING</th>\n",
              "      <th>ONE-LINE</th>\n",
              "      <th>VOTES</th>\n",
              "      <th>RUNTIME</th>\n",
              "      <th>YEAR_START</th>\n",
              "      <th>YEAR_END</th>\n",
              "      <th>DECADE</th>\n",
              "      <th>GENRES_LIST</th>\n",
              "      <th>PRIMARY_GENRE</th>\n",
              "      <th>GENRE_COUNT</th>\n",
              "      <th>DIRECTOR</th>\n",
              "      <th>MAIN_STARS</th>\n",
              "      <th>STAR_COUNT</th>\n",
              "    </tr>\n",
              "  </thead>\n",
              "  <tbody>\n",
              "    <tr>\n",
              "      <th>0</th>\n",
              "      <td>Blood Red Sky</td>\n",
              "      <td>6.1</td>\n",
              "      <td>A woman with a mysterious illness is forced in...</td>\n",
              "      <td>21,062</td>\n",
              "      <td>121.0</td>\n",
              "      <td>2021.0</td>\n",
              "      <td>2021.0</td>\n",
              "      <td>2020</td>\n",
              "      <td>[Action, Horror, Thriller]</td>\n",
              "      <td>Action</td>\n",
              "      <td>3</td>\n",
              "      <td>Peter Thorwarth</td>\n",
              "      <td>Peri Baumeister, Carl Anton Koch, Alexander Sc...</td>\n",
              "      <td>4.0</td>\n",
              "    </tr>\n",
              "    <tr>\n",
              "      <th>1</th>\n",
              "      <td>Masters of the Universe: Revelation</td>\n",
              "      <td>5.0</td>\n",
              "      <td>The war for Eternia begins again in what may b...</td>\n",
              "      <td>17,870</td>\n",
              "      <td>25.0</td>\n",
              "      <td>2021.0</td>\n",
              "      <td>NaN</td>\n",
              "      <td>2020</td>\n",
              "      <td>[Animation, Action, Adventure]</td>\n",
              "      <td>Animation</td>\n",
              "      <td>3</td>\n",
              "      <td>NaN</td>\n",
              "      <td>Chris Wood, Sarah Michelle Gellar, Lena Headey...</td>\n",
              "      <td>4.0</td>\n",
              "    </tr>\n",
              "    <tr>\n",
              "      <th>2</th>\n",
              "      <td>The Walking Dead</td>\n",
              "      <td>8.2</td>\n",
              "      <td>Sheriff Deputy Rick Grimes wakes up from a com...</td>\n",
              "      <td>885,805</td>\n",
              "      <td>44.0</td>\n",
              "      <td>2010.0</td>\n",
              "      <td>2022.0</td>\n",
              "      <td>2010</td>\n",
              "      <td>[Drama, Horror, Thriller]</td>\n",
              "      <td>Drama</td>\n",
              "      <td>3</td>\n",
              "      <td>NaN</td>\n",
              "      <td>Andrew Lincoln, Norman Reedus, Melissa McBride...</td>\n",
              "      <td>4.0</td>\n",
              "    </tr>\n",
              "    <tr>\n",
              "      <th>3</th>\n",
              "      <td>Rick and Morty</td>\n",
              "      <td>9.2</td>\n",
              "      <td>An animated series that follows the exploits o...</td>\n",
              "      <td>414,849</td>\n",
              "      <td>23.0</td>\n",
              "      <td>2013.0</td>\n",
              "      <td>NaN</td>\n",
              "      <td>2010</td>\n",
              "      <td>[Animation, Adventure, Comedy]</td>\n",
              "      <td>Animation</td>\n",
              "      <td>3</td>\n",
              "      <td>NaN</td>\n",
              "      <td>Justin Roiland, Chris Parnell, Spencer Grammer...</td>\n",
              "      <td>4.0</td>\n",
              "    </tr>\n",
              "    <tr>\n",
              "      <th>5</th>\n",
              "      <td>Outer Banks</td>\n",
              "      <td>7.6</td>\n",
              "      <td>A group of teenagers from the wrong side of th...</td>\n",
              "      <td>25,858</td>\n",
              "      <td>50.0</td>\n",
              "      <td>2020.0</td>\n",
              "      <td>NaN</td>\n",
              "      <td>2020</td>\n",
              "      <td>[Action, Crime, Drama]</td>\n",
              "      <td>Action</td>\n",
              "      <td>3</td>\n",
              "      <td>NaN</td>\n",
              "      <td>Chase Stokes, Madelyn Cline, Madison Bailey, J...</td>\n",
              "      <td>4.0</td>\n",
              "    </tr>\n",
              "  </tbody>\n",
              "</table>\n",
              "</div>"
            ],
            "text/plain": [
              "                                MOVIES  RATING  \\\n",
              "0                        Blood Red Sky     6.1   \n",
              "1  Masters of the Universe: Revelation     5.0   \n",
              "2                     The Walking Dead     8.2   \n",
              "3                       Rick and Morty     9.2   \n",
              "5                          Outer Banks     7.6   \n",
              "\n",
              "                                            ONE-LINE    VOTES  RUNTIME  \\\n",
              "0  A woman with a mysterious illness is forced in...   21,062    121.0   \n",
              "1  The war for Eternia begins again in what may b...   17,870     25.0   \n",
              "2  Sheriff Deputy Rick Grimes wakes up from a com...  885,805     44.0   \n",
              "3  An animated series that follows the exploits o...  414,849     23.0   \n",
              "5  A group of teenagers from the wrong side of th...   25,858     50.0   \n",
              "\n",
              "   YEAR_START  YEAR_END  DECADE                     GENRES_LIST PRIMARY_GENRE  \\\n",
              "0      2021.0    2021.0    2020      [Action, Horror, Thriller]        Action   \n",
              "1      2021.0       NaN    2020  [Animation, Action, Adventure]     Animation   \n",
              "2      2010.0    2022.0    2010       [Drama, Horror, Thriller]         Drama   \n",
              "3      2013.0       NaN    2010  [Animation, Adventure, Comedy]     Animation   \n",
              "5      2020.0       NaN    2020          [Action, Crime, Drama]        Action   \n",
              "\n",
              "   GENRE_COUNT         DIRECTOR  \\\n",
              "0            3  Peter Thorwarth   \n",
              "1            3              NaN   \n",
              "2            3              NaN   \n",
              "3            3              NaN   \n",
              "5            3              NaN   \n",
              "\n",
              "                                          MAIN_STARS  STAR_COUNT  \n",
              "0  Peri Baumeister, Carl Anton Koch, Alexander Sc...         4.0  \n",
              "1  Chris Wood, Sarah Michelle Gellar, Lena Headey...         4.0  \n",
              "2  Andrew Lincoln, Norman Reedus, Melissa McBride...         4.0  \n",
              "3  Justin Roiland, Chris Parnell, Spencer Grammer...         4.0  \n",
              "5  Chase Stokes, Madelyn Cline, Madison Bailey, J...         4.0  "
            ]
          },
          "execution_count": 7,
          "metadata": {},
          "output_type": "execute_result"
        }
      ],
      "source": [
        "# Step 3: Feature engineering\n",
        "before_df = df.copy()\n",
        "\n",
        "# Clean text fields - remove newlines and extra spaces\n",
        "text_columns = ['ONE-LINE', 'GENRE', 'STARS']\n",
        "for col in text_columns:\n",
        "    if col in df.columns:\n",
        "        df[col] = df[col].astype(str).str.replace(r'\\n', ' ', regex=True)\n",
        "        df[col] = df[col].str.replace(r'\\s+', ' ', regex=True)\n",
        "        df[col] = df[col].str.strip()\n",
        "\n",
        "# Parse YEAR field to handle ranges like (2021-) and (2010-2022)\n",
        "if 'YEAR' in df.columns:\n",
        "    # Extract start year from patterns like (2020-2022) or (2021-)\n",
        "    # Regex: \\((\\d{4})\n",
        "    # - \\( matches literal opening parenthesis\n",
        "    # - (\\d{4}) is a capture group that matches exactly 4 digits\n",
        "    # - The parentheses create a capture group that extract() returns\n",
        "    df['YEAR_START'] = df['YEAR'].astype(str).str.extract(r'\\((\\d{4})', expand=False).astype(float)\n",
        "    \n",
        "    # Extract end year if it exists\n",
        "    # Regex: (\\d{4})\\)\n",
        "    # - (\\d{4}) is a capture group that matches exactly 4 digits\n",
        "    # - \\) matches literal closing parenthesis\n",
        "    # - Only the captured group (the 4 digits) is returned, not the parenthesis\n",
        "    df['YEAR_END'] = df['YEAR'].astype(str).str.extract(r'(\\d{4})\\)', expand=False).astype(float)\n",
        "    \n",
        "    # For ongoing series (like 2021-), set end year to None\n",
        "    # Regex: \\d{4}–\\s*\\)\n",
        "    # - \\d{4} matches exactly 4 digits (not captured, just matched)\n",
        "    # - – matches the dash character\n",
        "    # - \\s* matches zero or more whitespace characters\n",
        "    # - \\) matches literal closing parenthesis\n",
        "    # - contains() returns True if pattern is found anywhere in string\n",
        "    ongoing_mask = df['YEAR'].str.contains(r'\\d{4}–\\s*\\)', na=False)\n",
        "    df.loc[ongoing_mask, 'YEAR_END'] = None\n",
        "    \n",
        "    # Create decade from start year\n",
        "    df['DECADE'] = (df['YEAR_START'] // 10 * 10).astype('Int64')\n",
        "\n",
        "    # drop year column now that we have the start and end years\n",
        "    df = df.drop(columns=['YEAR'])\n",
        "\n",
        "# Parse GENRE field to extract all genres\n",
        "if 'GENRE' in df.columns:\n",
        "    # Split genres and clean them\n",
        "    df['GENRES_LIST'] = df['GENRE'].str.split(',')\n",
        "    df['GENRES_LIST'] = df['GENRES_LIST'].apply(\n",
        "        # lambda means execute this function for each element in the list\n",
        "        # x is the element in the list\n",
        "        # if x is a list, execute the following code\n",
        "        #   for each element in the list, execute the following code\n",
        "        #       strip the element of whitespace\n",
        "        # if x is not a list, return an empty list\n",
        "        lambda x: [genre.strip() for genre in x] if isinstance(x, list) else []\n",
        "    )\n",
        "    \n",
        "    # Extract primary genre (first one)\n",
        "    df['PRIMARY_GENRE'] = df['GENRES_LIST'].apply(\n",
        "        # lambda means execute this function for each element in the list\n",
        "        # x is the element in the list\n",
        "        # if x is a list, execute the following code\n",
        "        #   if x is not empty and has more than 0 elements, return the first element\n",
        "        #   otherwise return 'Unknown'\n",
        "        lambda x: x[0] if x and len(x) > 0 else 'Unknown'\n",
        "    )\n",
        "    \n",
        "    # Count number of genres\n",
        "    df['GENRE_COUNT'] = df['GENRES_LIST'].apply(len)\n",
        "\n",
        "    # drop genre column now that we have the primary genre and genre count\n",
        "    df = df.drop(columns=['GENRE'])\n",
        "\n",
        "# Parse STARS field to extract director and main stars\n",
        "if 'STARS' in df.columns:\n",
        "    # Extract director\n",
        "    # Regex: Director:\\s*([^|]+)\n",
        "    # - Director: matches the literal text \"Director:\"\n",
        "    # - \\s* matches zero or more whitespace characters after \"Director:\"\n",
        "    # - ([^|]+) is a capture group that matches one or more characters that are NOT pipe (|)\n",
        "    #   The pipe character is used as a delimiter in the STARS field to separate Director from Stars sections\n",
        "    # - The parentheses create a capture group, and extract() returns only what's inside the parentheses\n",
        "    # - This captures everything after \"Director:\" until it hits a pipe character or end of string\n",
        "    df['DIRECTOR'] = df['STARS'].str.extract(r'Director:\\s*([^|]+)', expand=False)\n",
        "    df['DIRECTOR'] = df['DIRECTOR'].str.strip()\n",
        "    \n",
        "    # Extract main stars (after \"Stars:\" until next delimiter or end)\n",
        "    # Regex: Stars:\\s*([^|]+)\n",
        "    # - Stars: matches the literal text \"Stars:\"\n",
        "    # - \\s* matches zero or more whitespace characters after \"Stars:\"\n",
        "    # - ([^|]+) is a capture group that matches one or more characters that are NOT pipe (|)\n",
        "    # - The capture group extracts all star names after \"Stars:\" until a pipe or end of string\n",
        "    df['MAIN_STARS'] = df['STARS'].str.extract(r'Stars:\\s*([^|]+)', expand=False)\n",
        "    df['MAIN_STARS'] = df['MAIN_STARS'].str.strip()\n",
        "    \n",
        "    # Count number of stars mentioned\n",
        "    df['STAR_COUNT'] = df['MAIN_STARS'].str.count(',') + 1\n",
        "    df.loc[df['MAIN_STARS'].isna(), 'STAR_COUNT'] = 0\n",
        "\n",
        "    # drop stars column now that we have the main stars and star count\n",
        "    df = df.drop(columns=['STARS'])\n",
        "\n",
        "track_transformation('3. Advanced cleaning & parsing', before_df, df)\n",
        "\n",
        "df.head()\n"
      ]
    },
    {
      "cell_type": "code",
      "execution_count": 8,
      "metadata": {},
      "outputs": [
        {
          "name": "stdout",
          "output_type": "stream",
          "text": [
            "Creating one-hot encoding for top 20 genres\n",
            "Top 10 genres: Drama, Comedy, Action, Crime, Animation, Adventure, Documentary, Thriller, Romance, Mystery\n",
            "Creating encoding for top 15 stars\n",
            "Top 5 stars: Mae Whitman, Zach Tyler, Jack De Sena, Masakazu Morita, Michael C. Hall\n",
            "Creating encoding for 632 frequent directors\n",
            "3.5. Categorical encoding (preserve all data): 6779 → 6779, 5327 → 5327 missing\n"
          ]
        },
        {
          "data": {
            "text/html": [
              "<div>\n",
              "<style scoped>\n",
              "    .dataframe tbody tr th:only-of-type {\n",
              "        vertical-align: middle;\n",
              "    }\n",
              "\n",
              "    .dataframe tbody tr th {\n",
              "        vertical-align: top;\n",
              "    }\n",
              "\n",
              "    .dataframe thead th {\n",
              "        text-align: right;\n",
              "    }\n",
              "</style>\n",
              "<table border=\"1\" class=\"dataframe\">\n",
              "  <thead>\n",
              "    <tr style=\"text-align: right;\">\n",
              "      <th></th>\n",
              "      <th>MOVIES</th>\n",
              "      <th>RATING</th>\n",
              "      <th>ONE-LINE</th>\n",
              "      <th>VOTES</th>\n",
              "      <th>RUNTIME</th>\n",
              "      <th>YEAR_START</th>\n",
              "      <th>YEAR_END</th>\n",
              "      <th>DECADE</th>\n",
              "      <th>GENRES_LIST</th>\n",
              "      <th>PRIMARY_GENRE</th>\n",
              "      <th>...</th>\n",
              "      <th>DIRECTOR_BRIAN_SMITH</th>\n",
              "      <th>DIRECTOR_GIANCARLO_VOLPE</th>\n",
              "      <th>DIRECTOR_JAY_KARAS</th>\n",
              "      <th>DIRECTOR_MARCUS_RABOY</th>\n",
              "      <th>DIRECTOR_BARAN_BO_ODAR</th>\n",
              "      <th>DIRECTOR_JAY_CHAPMAN</th>\n",
              "      <th>DIRECTOR_JOSEPH_SHERMAN</th>\n",
              "      <th>DIRECTOR_CHRIS_SAVINO</th>\n",
              "      <th>DIRECTOR_LARRY_JACOBS</th>\n",
              "      <th>DIRECTOR_TOSHIKI_HIRANO</th>\n",
              "    </tr>\n",
              "  </thead>\n",
              "  <tbody>\n",
              "    <tr>\n",
              "      <th>0</th>\n",
              "      <td>Blood Red Sky</td>\n",
              "      <td>6.1</td>\n",
              "      <td>A woman with a mysterious illness is forced in...</td>\n",
              "      <td>21,062</td>\n",
              "      <td>121.0</td>\n",
              "      <td>2021.0</td>\n",
              "      <td>2021.0</td>\n",
              "      <td>2020</td>\n",
              "      <td>[Action, Horror, Thriller]</td>\n",
              "      <td>Action</td>\n",
              "      <td>...</td>\n",
              "      <td>0</td>\n",
              "      <td>0</td>\n",
              "      <td>0</td>\n",
              "      <td>0</td>\n",
              "      <td>0</td>\n",
              "      <td>0</td>\n",
              "      <td>0</td>\n",
              "      <td>0</td>\n",
              "      <td>0</td>\n",
              "      <td>0</td>\n",
              "    </tr>\n",
              "    <tr>\n",
              "      <th>1</th>\n",
              "      <td>Masters of the Universe: Revelation</td>\n",
              "      <td>5.0</td>\n",
              "      <td>The war for Eternia begins again in what may b...</td>\n",
              "      <td>17,870</td>\n",
              "      <td>25.0</td>\n",
              "      <td>2021.0</td>\n",
              "      <td>NaN</td>\n",
              "      <td>2020</td>\n",
              "      <td>[Animation, Action, Adventure]</td>\n",
              "      <td>Animation</td>\n",
              "      <td>...</td>\n",
              "      <td>0</td>\n",
              "      <td>0</td>\n",
              "      <td>0</td>\n",
              "      <td>0</td>\n",
              "      <td>0</td>\n",
              "      <td>0</td>\n",
              "      <td>0</td>\n",
              "      <td>0</td>\n",
              "      <td>0</td>\n",
              "      <td>0</td>\n",
              "    </tr>\n",
              "    <tr>\n",
              "      <th>2</th>\n",
              "      <td>The Walking Dead</td>\n",
              "      <td>8.2</td>\n",
              "      <td>Sheriff Deputy Rick Grimes wakes up from a com...</td>\n",
              "      <td>885,805</td>\n",
              "      <td>44.0</td>\n",
              "      <td>2010.0</td>\n",
              "      <td>2022.0</td>\n",
              "      <td>2010</td>\n",
              "      <td>[Drama, Horror, Thriller]</td>\n",
              "      <td>Drama</td>\n",
              "      <td>...</td>\n",
              "      <td>0</td>\n",
              "      <td>0</td>\n",
              "      <td>0</td>\n",
              "      <td>0</td>\n",
              "      <td>0</td>\n",
              "      <td>0</td>\n",
              "      <td>0</td>\n",
              "      <td>0</td>\n",
              "      <td>0</td>\n",
              "      <td>0</td>\n",
              "    </tr>\n",
              "    <tr>\n",
              "      <th>3</th>\n",
              "      <td>Rick and Morty</td>\n",
              "      <td>9.2</td>\n",
              "      <td>An animated series that follows the exploits o...</td>\n",
              "      <td>414,849</td>\n",
              "      <td>23.0</td>\n",
              "      <td>2013.0</td>\n",
              "      <td>NaN</td>\n",
              "      <td>2010</td>\n",
              "      <td>[Animation, Adventure, Comedy]</td>\n",
              "      <td>Animation</td>\n",
              "      <td>...</td>\n",
              "      <td>0</td>\n",
              "      <td>0</td>\n",
              "      <td>0</td>\n",
              "      <td>0</td>\n",
              "      <td>0</td>\n",
              "      <td>0</td>\n",
              "      <td>0</td>\n",
              "      <td>0</td>\n",
              "      <td>0</td>\n",
              "      <td>0</td>\n",
              "    </tr>\n",
              "    <tr>\n",
              "      <th>5</th>\n",
              "      <td>Outer Banks</td>\n",
              "      <td>7.6</td>\n",
              "      <td>A group of teenagers from the wrong side of th...</td>\n",
              "      <td>25,858</td>\n",
              "      <td>50.0</td>\n",
              "      <td>2020.0</td>\n",
              "      <td>NaN</td>\n",
              "      <td>2020</td>\n",
              "      <td>[Action, Crime, Drama]</td>\n",
              "      <td>Action</td>\n",
              "      <td>...</td>\n",
              "      <td>0</td>\n",
              "      <td>0</td>\n",
              "      <td>0</td>\n",
              "      <td>0</td>\n",
              "      <td>0</td>\n",
              "      <td>0</td>\n",
              "      <td>0</td>\n",
              "      <td>0</td>\n",
              "      <td>0</td>\n",
              "      <td>0</td>\n",
              "    </tr>\n",
              "  </tbody>\n",
              "</table>\n",
              "<p>5 rows × 60 columns</p>\n",
              "</div>"
            ],
            "text/plain": [
              "                                MOVIES  RATING  \\\n",
              "0                        Blood Red Sky     6.1   \n",
              "1  Masters of the Universe: Revelation     5.0   \n",
              "2                     The Walking Dead     8.2   \n",
              "3                       Rick and Morty     9.2   \n",
              "5                          Outer Banks     7.6   \n",
              "\n",
              "                                            ONE-LINE    VOTES  RUNTIME  \\\n",
              "0  A woman with a mysterious illness is forced in...   21,062    121.0   \n",
              "1  The war for Eternia begins again in what may b...   17,870     25.0   \n",
              "2  Sheriff Deputy Rick Grimes wakes up from a com...  885,805     44.0   \n",
              "3  An animated series that follows the exploits o...  414,849     23.0   \n",
              "5  A group of teenagers from the wrong side of th...   25,858     50.0   \n",
              "\n",
              "   YEAR_START  YEAR_END  DECADE                     GENRES_LIST PRIMARY_GENRE  \\\n",
              "0      2021.0    2021.0    2020      [Action, Horror, Thriller]        Action   \n",
              "1      2021.0       NaN    2020  [Animation, Action, Adventure]     Animation   \n",
              "2      2010.0    2022.0    2010       [Drama, Horror, Thriller]         Drama   \n",
              "3      2013.0       NaN    2010  [Animation, Adventure, Comedy]     Animation   \n",
              "5      2020.0       NaN    2020          [Action, Crime, Drama]        Action   \n",
              "\n",
              "   ...  DIRECTOR_BRIAN_SMITH DIRECTOR_GIANCARLO_VOLPE DIRECTOR_JAY_KARAS  \\\n",
              "0  ...                     0                        0                  0   \n",
              "1  ...                     0                        0                  0   \n",
              "2  ...                     0                        0                  0   \n",
              "3  ...                     0                        0                  0   \n",
              "5  ...                     0                        0                  0   \n",
              "\n",
              "   DIRECTOR_MARCUS_RABOY  DIRECTOR_BARAN_BO_ODAR  DIRECTOR_JAY_CHAPMAN  \\\n",
              "0                      0                       0                     0   \n",
              "1                      0                       0                     0   \n",
              "2                      0                       0                     0   \n",
              "3                      0                       0                     0   \n",
              "5                      0                       0                     0   \n",
              "\n",
              "   DIRECTOR_JOSEPH_SHERMAN  DIRECTOR_CHRIS_SAVINO  DIRECTOR_LARRY_JACOBS  \\\n",
              "0                        0                      0                      0   \n",
              "1                        0                      0                      0   \n",
              "2                        0                      0                      0   \n",
              "3                        0                      0                      0   \n",
              "5                        0                      0                      0   \n",
              "\n",
              "   DIRECTOR_TOSHIKI_HIRANO  \n",
              "0                        0  \n",
              "1                        0  \n",
              "2                        0  \n",
              "3                        0  \n",
              "5                        0  \n",
              "\n",
              "[5 rows x 60 columns]"
            ]
          },
          "execution_count": 8,
          "metadata": {},
          "output_type": "execute_result"
        }
      ],
      "source": [
        "# Step 3.5: Categorical Encoding - Preserve All Data\n",
        "before_df = df.copy()\n",
        "\n",
        "# ONE-HOT ENCODING FOR GENRES (preserve all genre information)\n",
        "if 'GENRES_LIST' in df.columns:\n",
        "    # Get all unique genres and their frequency\n",
        "    all_genres = {}\n",
        "    for genre_list in df['GENRES_LIST'].dropna():\n",
        "        for genre in genre_list:\n",
        "            if genre and genre != 'nan':\n",
        "                # .get(genre, 0) returns the current count for genre, or 0 if genre doesn't exist yet\n",
        "                # This counts how many times each genre appears across all movies\n",
        "                all_genres[genre] = all_genres.get(genre, 0) + 1\n",
        "    \n",
        "    # Keep top 20 most common genres for one-hot encoding (balance between completeness and dimensionality)\n",
        "    # sorted() sorts the dictionary items\n",
        "    # key=lambda x: x[1] means sort by the second element of each tuple (the count)\n",
        "    # reverse=True means sort in descending order (highest count first)\n",
        "    # [:20] takes only the first 20 items\n",
        "    top_genres = sorted(all_genres.items(), key=lambda x: x[1], reverse=True)[:20]\n",
        "    top_genre_names = [genre for genre, count in top_genres]\n",
        "    \n",
        "    print(f\"Creating one-hot encoding for top {len(top_genre_names)} genres\")\n",
        "    print(f\"Top 10 genres: {', '.join(top_genre_names[:10])}\")\n",
        "    \n",
        "    # Create binary columns for each top genre\n",
        "    for genre in top_genre_names:\n",
        "        # Replace special characters to create valid column names\n",
        "        # .replace() substitutes characters that might cause issues in column names\n",
        "        safe_genre_name = genre.upper().replace(' ', '_').replace('-', '_').replace('(', '').replace(')', '')\n",
        "        # lambda x: checks if x is a list and if genre is in that list\n",
        "        # Returns 1 if genre is present, 0 otherwise (binary encoding)\n",
        "        df[f'GENRE_{safe_genre_name}'] = df['GENRES_LIST'].apply(\n",
        "            lambda x: 1 if isinstance(x, list) and genre in x else 0\n",
        "        )\n",
        "\n",
        "# EXTRACT AND ENCODE STAR INFORMATION (preserve individual star data)\n",
        "if 'MAIN_STARS' in df.columns:\n",
        "    # Extract individual star names\n",
        "    # .str.split(',') splits the string by comma into a list\n",
        "    df['STARS_LIST'] = df['MAIN_STARS'].str.split(',')\n",
        "    # Clean up the star names\n",
        "    # lambda x: processes each list x\n",
        "    # [star.strip() for star in x if star.strip()] removes whitespace and filters out empty strings\n",
        "    # isinstance(x, list) checks if x is actually a list before processing\n",
        "    df['STARS_LIST'] = df['STARS_LIST'].apply(\n",
        "        lambda x: [star.strip() for star in x if star.strip()] if isinstance(x, list) else []\n",
        "    )\n",
        "    \n",
        "    # Get top actors/actresses\n",
        "    all_stars = {}\n",
        "    for star_list in df['STARS_LIST'].dropna():\n",
        "        for star in star_list:\n",
        "            # len(star) > 2 filters out initials or very short names that might be errors\n",
        "            if star and star != 'nan' and len(star) > 2:\n",
        "                all_stars[star] = all_stars.get(star, 0) + 1\n",
        "    \n",
        "    # Keep top 15 most frequent stars for encoding\n",
        "    top_stars = sorted(all_stars.items(), key=lambda x: x[1], reverse=True)[:15]\n",
        "    # Filter to only include stars that appear in 3 or more movies\n",
        "    # This ensures we're encoding meaningful patterns, not one-off appearances\n",
        "    top_star_names = [star for star, count in top_stars if count >= 3]\n",
        "    \n",
        "    print(f\"Creating encoding for top {len(top_star_names)} stars\")\n",
        "    print(f\"Top 5 stars: {', '.join(top_star_names[:5])}\")\n",
        "    \n",
        "    # Create binary columns for each top star\n",
        "    for star in top_star_names:\n",
        "        safe_star_name = star.upper().replace(' ', '_').replace('-', '_').replace('.', '')\n",
        "        # lambda x: checks if star appears in the movie's star list\n",
        "        # Returns 1 if star is in the movie, 0 otherwise\n",
        "        df[f'STAR_{safe_star_name}'] = df['STARS_LIST'].apply(\n",
        "            lambda x: 1 if isinstance(x, list) and star in x else 0\n",
        "        )\n",
        "\n",
        "# DIRECTOR ENCODING (preserve director information)\n",
        "if 'DIRECTOR' in df.columns:\n",
        "    # Get director frequency\n",
        "    # .value_counts() counts how many times each unique director appears\n",
        "    director_counts = df['DIRECTOR'].value_counts()\n",
        "    # Keep directors with 2+ movies\n",
        "    # director_counts >= 2 creates a boolean mask\n",
        "    # .index.tolist() gets the director names (index) as a list\n",
        "    frequent_directors = director_counts[director_counts >= 2].index.tolist()\n",
        "    \n",
        "    print(f\"Creating encoding for {len(frequent_directors)} frequent directors\")\n",
        "    \n",
        "    # Create binary columns for frequent directors\n",
        "    for director in frequent_directors[:10]:  # Top 10 most prolific directors\n",
        "        # pd.notna() checks if director is not NaN (missing value)\n",
        "        if director and pd.notna(director):\n",
        "            safe_director_name = director.upper().replace(' ', '_').replace('-', '_').replace('.', '')\n",
        "            # (df['DIRECTOR'] == director) creates a boolean series\n",
        "            # .astype(int) converts True to 1 and False to 0\n",
        "            df[f'DIRECTOR_{safe_director_name}'] = (df['DIRECTOR'] == director).astype(int)\n",
        "\n",
        "track_transformation('3.5. Categorical encoding (preserve all data)', before_df, df)\n",
        "\n",
        "df.head()\n"
      ]
    },
    {
      "cell_type": "code",
      "execution_count": 9,
      "metadata": {},
      "outputs": [
        {
          "name": "stdout",
          "output_type": "stream",
          "text": [
            "4. Feature engineering & standardization: 6779 → 6777, 5327 → 5325 missing\n"
          ]
        },
        {
          "data": {
            "text/html": [
              "<div>\n",
              "<style scoped>\n",
              "    .dataframe tbody tr th:only-of-type {\n",
              "        vertical-align: middle;\n",
              "    }\n",
              "\n",
              "    .dataframe tbody tr th {\n",
              "        vertical-align: top;\n",
              "    }\n",
              "\n",
              "    .dataframe thead th {\n",
              "        text-align: right;\n",
              "    }\n",
              "</style>\n",
              "<table border=\"1\" class=\"dataframe\">\n",
              "  <thead>\n",
              "    <tr style=\"text-align: right;\">\n",
              "      <th></th>\n",
              "      <th>MOVIES</th>\n",
              "      <th>RATING</th>\n",
              "      <th>ONE-LINE</th>\n",
              "      <th>VOTES</th>\n",
              "      <th>RUNTIME</th>\n",
              "      <th>YEAR_START</th>\n",
              "      <th>YEAR_END</th>\n",
              "      <th>DECADE</th>\n",
              "      <th>GENRES_LIST</th>\n",
              "      <th>PRIMARY_GENRE</th>\n",
              "      <th>...</th>\n",
              "      <th>DIRECTOR_BARAN_BO_ODAR</th>\n",
              "      <th>DIRECTOR_JAY_CHAPMAN</th>\n",
              "      <th>DIRECTOR_JOSEPH_SHERMAN</th>\n",
              "      <th>DIRECTOR_CHRIS_SAVINO</th>\n",
              "      <th>DIRECTOR_LARRY_JACOBS</th>\n",
              "      <th>DIRECTOR_TOSHIKI_HIRANO</th>\n",
              "      <th>RATING_CATEGORY</th>\n",
              "      <th>RUNTIME_CATEGORY</th>\n",
              "      <th>MOVIE_AGE</th>\n",
              "      <th>IS_SERIES</th>\n",
              "    </tr>\n",
              "  </thead>\n",
              "  <tbody>\n",
              "    <tr>\n",
              "      <th>0</th>\n",
              "      <td>Blood Red Sky</td>\n",
              "      <td>6.1</td>\n",
              "      <td>A woman with a mysterious illness is forced in...</td>\n",
              "      <td>21,062</td>\n",
              "      <td>121.0</td>\n",
              "      <td>2021.0</td>\n",
              "      <td>2021.0</td>\n",
              "      <td>2020</td>\n",
              "      <td>[Action, Horror, Thriller]</td>\n",
              "      <td>Action</td>\n",
              "      <td>...</td>\n",
              "      <td>0</td>\n",
              "      <td>0</td>\n",
              "      <td>0</td>\n",
              "      <td>0</td>\n",
              "      <td>0</td>\n",
              "      <td>0</td>\n",
              "      <td>Good</td>\n",
              "      <td>Long</td>\n",
              "      <td>4.0</td>\n",
              "      <td>True</td>\n",
              "    </tr>\n",
              "    <tr>\n",
              "      <th>1</th>\n",
              "      <td>Masters of the Universe: Revelation</td>\n",
              "      <td>5.0</td>\n",
              "      <td>The war for Eternia begins again in what may b...</td>\n",
              "      <td>17,870</td>\n",
              "      <td>25.0</td>\n",
              "      <td>2021.0</td>\n",
              "      <td>NaN</td>\n",
              "      <td>2020</td>\n",
              "      <td>[Animation, Action, Adventure]</td>\n",
              "      <td>Animation</td>\n",
              "      <td>...</td>\n",
              "      <td>0</td>\n",
              "      <td>0</td>\n",
              "      <td>0</td>\n",
              "      <td>0</td>\n",
              "      <td>0</td>\n",
              "      <td>0</td>\n",
              "      <td>Average</td>\n",
              "      <td>Short</td>\n",
              "      <td>4.0</td>\n",
              "      <td>False</td>\n",
              "    </tr>\n",
              "    <tr>\n",
              "      <th>2</th>\n",
              "      <td>The Walking Dead</td>\n",
              "      <td>8.2</td>\n",
              "      <td>Sheriff Deputy Rick Grimes wakes up from a com...</td>\n",
              "      <td>885,805</td>\n",
              "      <td>44.0</td>\n",
              "      <td>2010.0</td>\n",
              "      <td>2022.0</td>\n",
              "      <td>2010</td>\n",
              "      <td>[Drama, Horror, Thriller]</td>\n",
              "      <td>Drama</td>\n",
              "      <td>...</td>\n",
              "      <td>0</td>\n",
              "      <td>0</td>\n",
              "      <td>0</td>\n",
              "      <td>0</td>\n",
              "      <td>0</td>\n",
              "      <td>0</td>\n",
              "      <td>Excellent</td>\n",
              "      <td>Short</td>\n",
              "      <td>15.0</td>\n",
              "      <td>True</td>\n",
              "    </tr>\n",
              "    <tr>\n",
              "      <th>3</th>\n",
              "      <td>Rick and Morty</td>\n",
              "      <td>9.2</td>\n",
              "      <td>An animated series that follows the exploits o...</td>\n",
              "      <td>414,849</td>\n",
              "      <td>23.0</td>\n",
              "      <td>2013.0</td>\n",
              "      <td>NaN</td>\n",
              "      <td>2010</td>\n",
              "      <td>[Animation, Adventure, Comedy]</td>\n",
              "      <td>Animation</td>\n",
              "      <td>...</td>\n",
              "      <td>0</td>\n",
              "      <td>0</td>\n",
              "      <td>0</td>\n",
              "      <td>0</td>\n",
              "      <td>0</td>\n",
              "      <td>0</td>\n",
              "      <td>Excellent</td>\n",
              "      <td>Short</td>\n",
              "      <td>12.0</td>\n",
              "      <td>False</td>\n",
              "    </tr>\n",
              "    <tr>\n",
              "      <th>5</th>\n",
              "      <td>Outer Banks</td>\n",
              "      <td>7.6</td>\n",
              "      <td>A group of teenagers from the wrong side of th...</td>\n",
              "      <td>25,858</td>\n",
              "      <td>50.0</td>\n",
              "      <td>2020.0</td>\n",
              "      <td>NaN</td>\n",
              "      <td>2020</td>\n",
              "      <td>[Action, Crime, Drama]</td>\n",
              "      <td>Action</td>\n",
              "      <td>...</td>\n",
              "      <td>0</td>\n",
              "      <td>0</td>\n",
              "      <td>0</td>\n",
              "      <td>0</td>\n",
              "      <td>0</td>\n",
              "      <td>0</td>\n",
              "      <td>Good</td>\n",
              "      <td>Short</td>\n",
              "      <td>5.0</td>\n",
              "      <td>False</td>\n",
              "    </tr>\n",
              "  </tbody>\n",
              "</table>\n",
              "<p>5 rows × 64 columns</p>\n",
              "</div>"
            ],
            "text/plain": [
              "                                MOVIES  RATING  \\\n",
              "0                        Blood Red Sky     6.1   \n",
              "1  Masters of the Universe: Revelation     5.0   \n",
              "2                     The Walking Dead     8.2   \n",
              "3                       Rick and Morty     9.2   \n",
              "5                          Outer Banks     7.6   \n",
              "\n",
              "                                            ONE-LINE    VOTES  RUNTIME  \\\n",
              "0  A woman with a mysterious illness is forced in...   21,062    121.0   \n",
              "1  The war for Eternia begins again in what may b...   17,870     25.0   \n",
              "2  Sheriff Deputy Rick Grimes wakes up from a com...  885,805     44.0   \n",
              "3  An animated series that follows the exploits o...  414,849     23.0   \n",
              "5  A group of teenagers from the wrong side of th...   25,858     50.0   \n",
              "\n",
              "   YEAR_START  YEAR_END  DECADE                     GENRES_LIST PRIMARY_GENRE  \\\n",
              "0      2021.0    2021.0    2020      [Action, Horror, Thriller]        Action   \n",
              "1      2021.0       NaN    2020  [Animation, Action, Adventure]     Animation   \n",
              "2      2010.0    2022.0    2010       [Drama, Horror, Thriller]         Drama   \n",
              "3      2013.0       NaN    2010  [Animation, Adventure, Comedy]     Animation   \n",
              "5      2020.0       NaN    2020          [Action, Crime, Drama]        Action   \n",
              "\n",
              "   ...  DIRECTOR_BARAN_BO_ODAR DIRECTOR_JAY_CHAPMAN DIRECTOR_JOSEPH_SHERMAN  \\\n",
              "0  ...                       0                    0                       0   \n",
              "1  ...                       0                    0                       0   \n",
              "2  ...                       0                    0                       0   \n",
              "3  ...                       0                    0                       0   \n",
              "5  ...                       0                    0                       0   \n",
              "\n",
              "   DIRECTOR_CHRIS_SAVINO  DIRECTOR_LARRY_JACOBS  DIRECTOR_TOSHIKI_HIRANO  \\\n",
              "0                      0                      0                        0   \n",
              "1                      0                      0                        0   \n",
              "2                      0                      0                        0   \n",
              "3                      0                      0                        0   \n",
              "5                      0                      0                        0   \n",
              "\n",
              "   RATING_CATEGORY  RUNTIME_CATEGORY  MOVIE_AGE  IS_SERIES  \n",
              "0             Good              Long        4.0       True  \n",
              "1          Average             Short        4.0      False  \n",
              "2        Excellent             Short       15.0       True  \n",
              "3        Excellent             Short       12.0      False  \n",
              "5             Good             Short        5.0      False  \n",
              "\n",
              "[5 rows x 64 columns]"
            ]
          },
          "execution_count": 9,
          "metadata": {},
          "output_type": "execute_result"
        }
      ],
      "source": [
        "# Step 4: Clean and standardize text data\n",
        "before_df = df.copy()\n",
        "\n",
        "# Create rating categories\n",
        "if 'RATING' in df.columns:\n",
        "    df['RATING_CATEGORY'] = pd.cut(df['RATING'], \n",
        "                                   bins=[0, 4, 6, 8, 10], \n",
        "                                   labels=['Poor', 'Average', 'Good', 'Excellent'])\n",
        "\n",
        "# Create runtime categories\n",
        "if 'RUNTIME' in df.columns:\n",
        "    df['RUNTIME_CATEGORY'] = pd.cut(df['RUNTIME'], \n",
        "                                    bins=[0, 90, 120, 180, 1000], \n",
        "                                    labels=['Short', 'Standard', 'Long', 'Epic'])\n",
        "\n",
        "# Standardize text formatting\n",
        "if 'MOVIES' in df.columns:\n",
        "    df['MOVIES'] = df['MOVIES'].str.strip()\n",
        "\n",
        "if 'PRIMARY_GENRE' in df.columns:\n",
        "    df['PRIMARY_GENRE'] = df['PRIMARY_GENRE'].str.title()\n",
        "\n",
        "if 'DIRECTOR' in df.columns:\n",
        "    df['DIRECTOR'] = df['DIRECTOR'].str.title()\n",
        "\n",
        "# Create movie age based on start year\n",
        "if 'YEAR_START' in df.columns:\n",
        "    current_year = 2025\n",
        "    df['MOVIE_AGE'] = current_year - df['YEAR_START']\n",
        "\n",
        "# Categorize by series vs movie (based on year range)\n",
        "if 'YEAR_END' in df.columns:\n",
        "    df['IS_SERIES'] = df['YEAR_END'].notna()\n",
        "    \n",
        "# Remove obvious outliers\n",
        "if 'RATING' in df.columns:\n",
        "    df = df[(df['RATING'] >= 1) & (df['RATING'] <= 10)]\n",
        "\n",
        "if 'RUNTIME' in df.columns:\n",
        "    # Remove movies with unrealistic runtime (less than 1 min or more than 10 hours)\n",
        "    df = df[(df['RUNTIME'] >= 1) & (df['RUNTIME'] <= 600)]\n",
        "\n",
        "track_transformation('4. Feature engineering & standardization', before_df, df)\\\n",
        "\n",
        "df.head()\n"
      ]
    },
    {
      "cell_type": "code",
      "execution_count": 10,
      "metadata": {},
      "outputs": [
        {
          "data": {
            "image/png": "[encoded data removed]",
            "text/plain": [
              "<Figure size 1500x1000 with 4 Axes>"
            ]
          },
          "metadata": {},
          "output_type": "display_data"
        },
        {
          "name": "stdout",
          "output_type": "stream",
          "text": [
            "\n",
            "Pipeline completed:\n",
            "Original: (9999, 9) → Final: (6777, 64)\n",
            "Missing values: 16861 → 5325\n",
            "New features created: 55\n"
          ]
        }
      ],
      "source": [
        "# Visualize transformation pipeline effects\n",
        "transformations_df = pd.DataFrame(transformations)\n",
        "\n",
        "fig, axes = plt.subplots(2, 2, figsize=(15, 10))\n",
        "\n",
        "# Dataset shape changes\n",
        "x = range(len(transformations_df))\n",
        "axes[0,0].plot(x, transformations_df['Rows_After'], 'o-', label='Rows', linewidth=2, markersize=8)\n",
        "axes[0,0].plot(x, transformations_df['Cols_After'], 's-', label='Columns', linewidth=2, markersize=8)\n",
        "axes[0,0].set_title('Dataset Shape Through Pipeline')\n",
        "axes[0,0].set_xlabel('Transformation Step')\n",
        "axes[0,0].set_ylabel('Count')\n",
        "axes[0,0].legend()\n",
        "axes[0,0].grid(True, alpha=0.3)\n",
        "step_labels = [f\"Step {i+1}\" for i in x]\n",
        "axes[0,0].set_xticks(x)\n",
        "axes[0,0].set_xticklabels(step_labels)\n",
        "\n",
        "# Missing values reduction\n",
        "axes[0,1].bar(x, transformations_df['Missing_After'], color='red', alpha=0.7)\n",
        "axes[0,1].set_title('Missing Values After Each Step')\n",
        "axes[0,1].set_xlabel('Transformation Step')\n",
        "axes[0,1].set_ylabel('Missing Values')\n",
        "axes[0,1].set_xticks(x)\n",
        "axes[0,1].set_xticklabels(step_labels)\n",
        "axes[0,1].grid(True, alpha=0.3)\n",
        "\n",
        "# Before/After comparison\n",
        "comparison_data = {\n",
        "    'Metric': ['Rows', 'Columns', 'Missing Values'],\n",
        "    'Original': [len(raw_df), len(raw_df.columns), raw_df.isnull().sum().sum()],\n",
        "    'Final': [len(df), len(df.columns), df.isnull().sum().sum()]\n",
        "}\n",
        "comp_df = pd.DataFrame(comparison_data)\n",
        "\n",
        "x_pos = range(len(comp_df))\n",
        "width = 0.35\n",
        "axes[1,0].bar([x - width/2 for x in x_pos], comp_df['Original'], width, label='Original', alpha=0.8)\n",
        "axes[1,0].bar([x + width/2 for x in x_pos], comp_df['Final'], width, label='Final', alpha=0.8)\n",
        "axes[1,0].set_title('Original vs Final Dataset')\n",
        "axes[1,0].set_ylabel('Count')\n",
        "axes[1,0].set_xticks(x_pos)\n",
        "axes[1,0].set_xticklabels(comp_df['Metric'])\n",
        "axes[1,0].legend()\n",
        "axes[1,0].grid(True, alpha=0.3)\n",
        "\n",
        "# Transformation summary table\n",
        "axes[1,1].axis('tight')\n",
        "axes[1,1].axis('off')\n",
        "table_data = transformations_df[['Step', 'Rows', 'Columns', 'Missing']]\n",
        "table = axes[1,1].table(cellText=table_data.values, colLabels=table_data.columns, \n",
        "                        cellLoc='center', loc='center')\n",
        "table.auto_set_font_size(False)\n",
        "table.set_fontsize(9)\n",
        "table.scale(1.2, 1.5)\n",
        "axes[1,1].set_title('Transformation Summary')\n",
        "\n",
        "plt.tight_layout()\n",
        "plt.show()\n",
        "\n",
        "print(f\"\\nPipeline completed:\")\n",
        "print(f\"Original: {raw_df.shape} → Final: {df.shape}\")\n",
        "print(f\"Missing values: {raw_df.isnull().sum().sum()} → {df.isnull().sum().sum()}\")\n",
        "print(f\"New features created: {len(df.columns) - len(raw_df.columns)}\")\n"
      ]
    },
    {
      "cell_type": "markdown",
      "metadata": {},
      "source": [
        "## LOAD: Save Processed Data\n"
      ]
    },
    {
      "cell_type": "code",
      "execution_count": 11,
      "metadata": {},
      "outputs": [
        {
          "name": "stdout",
          "output_type": "stream",
          "text": [
            "SAVING PROCESSED DATA\n",
            "==============================\n",
            "CSV saved: 3269.0 KB\n",
            "Parquet saved: 1446.4 KB\n",
            "Metadata saved\n",
            "Compression ratio (Parquet vs CSV): 0.44\n"
          ]
        },
        {
          "data": {
            "text/html": [
              "<div>\n",
              "<style scoped>\n",
              "    .dataframe tbody tr th:only-of-type {\n",
              "        vertical-align: middle;\n",
              "    }\n",
              "\n",
              "    .dataframe tbody tr th {\n",
              "        vertical-align: top;\n",
              "    }\n",
              "\n",
              "    .dataframe thead th {\n",
              "        text-align: right;\n",
              "    }\n",
              "</style>\n",
              "<table border=\"1\" class=\"dataframe\">\n",
              "  <thead>\n",
              "    <tr style=\"text-align: right;\">\n",
              "      <th></th>\n",
              "      <th>Metric</th>\n",
              "      <th>Value</th>\n",
              "    </tr>\n",
              "  </thead>\n",
              "  <tbody>\n",
              "    <tr>\n",
              "      <th>0</th>\n",
              "      <td>original_shape</td>\n",
              "      <td>(9999, 9)</td>\n",
              "    </tr>\n",
              "    <tr>\n",
              "      <th>1</th>\n",
              "      <td>final_shape</td>\n",
              "      <td>(6777, 64)</td>\n",
              "    </tr>\n",
              "    <tr>\n",
              "      <th>2</th>\n",
              "      <td>transformations_applied</td>\n",
              "      <td>5</td>\n",
              "    </tr>\n",
              "    <tr>\n",
              "      <th>3</th>\n",
              "      <td>missing_values_original</td>\n",
              "      <td>16861</td>\n",
              "    </tr>\n",
              "    <tr>\n",
              "      <th>4</th>\n",
              "      <td>missing_values_final</td>\n",
              "      <td>5325</td>\n",
              "    </tr>\n",
              "    <tr>\n",
              "      <th>5</th>\n",
              "      <td>compression_ratio</td>\n",
              "      <td>0.44</td>\n",
              "    </tr>\n",
              "  </tbody>\n",
              "</table>\n",
              "</div>"
            ],
            "text/plain": [
              "                    Metric       Value\n",
              "0           original_shape   (9999, 9)\n",
              "1              final_shape  (6777, 64)\n",
              "2  transformations_applied           5\n",
              "3  missing_values_original       16861\n",
              "4     missing_values_final        5325\n",
              "5        compression_ratio        0.44"
            ]
          },
          "metadata": {},
          "output_type": "display_data"
        }
      ],
      "source": [
        "# Save processed data in multiple formats\n",
        "output_dir = Path('processed_data')\n",
        "output_dir.mkdir(exist_ok=True)\n",
        "\n",
        "print(\"SAVING PROCESSED DATA\")\n",
        "print(\"=\" * 30)\n",
        "\n",
        "# Save as CSV\n",
        "csv_path = output_dir / 'movies_processed.csv'\n",
        "df.to_csv(csv_path, index=False)\n",
        "csv_size = csv_path.stat().st_size / 1024\n",
        "print(f\"CSV saved: {csv_size:.1f} KB\")\n",
        "\n",
        "# Save as Parquet (more efficient)\n",
        "parquet_path = output_dir / 'movies_processed.parquet'\n",
        "df.to_parquet(parquet_path, index=False)\n",
        "parquet_size = parquet_path.stat().st_size / 1024\n",
        "print(f\"Parquet saved: {parquet_size:.1f} KB\")\n",
        "\n",
        "# Save transformation metadata\n",
        "metadata = {\n",
        "    'original_shape': raw_df.shape,\n",
        "    'final_shape': df.shape,\n",
        "    'transformations_applied': len(transformations),\n",
        "    'missing_values_original': raw_df.isnull().sum().sum(),\n",
        "    'missing_values_final': df.isnull().sum().sum(),\n",
        "    'compression_ratio': f\"{parquet_size/csv_size:.2f}\"\n",
        "}\n",
        "\n",
        "metadata_df = pd.DataFrame(list(metadata.items()), columns=['Metric', 'Value'])\n",
        "metadata_path = output_dir / 'transformation_metadata.csv'\n",
        "metadata_df.to_csv(metadata_path, index=False)\n",
        "\n",
        "print(f\"Metadata saved\")\n",
        "print(f\"Compression ratio (Parquet vs CSV): {parquet_size/csv_size:.2f}\")\n",
        "\n",
        "display(metadata_df)\n"
      ]
    },
    {
      "cell_type": "code",
      "execution_count": 12,
      "metadata": {},
      "outputs": [
        {
          "data": {
            "image/png": "[encoded data removed]",
            "text/plain": [
              "<Figure size 1800x1200 with 6 Axes>"
            ]
          },
          "metadata": {},
          "output_type": "display_data"
        },
        {
          "name": "stdout",
          "output_type": "stream",
          "text": [
            "SAMPLE OF PROCESSED DATA WITH NEW FIELDS:\n",
            "==================================================\n",
            "                                MOVIES  YEAR_START  YEAR_END PRIMARY_GENRE  \\\n",
            "0                        Blood Red Sky      2021.0    2021.0        Action   \n",
            "1  Masters of the Universe: Revelation      2021.0       NaN     Animation   \n",
            "2                     The Walking Dead      2010.0    2022.0         Drama   \n",
            "3                       Rick and Morty      2013.0       NaN     Animation   \n",
            "5                          Outer Banks      2020.0       NaN        Action   \n",
            "\n",
            "   GENRE_COUNT         DIRECTOR  RATING  IS_SERIES  MOVIE_AGE  \n",
            "0            3  Peter Thorwarth     6.1       True        4.0  \n",
            "1            3              NaN     5.0      False        4.0  \n",
            "2            3              NaN     8.2       True       15.0  \n",
            "3            3              NaN     9.2      False       12.0  \n",
            "5            3              NaN     7.6      False        5.0  \n",
            "\n",
            "CATEGORICAL ENCODING RESULTS:\n",
            "========================================\n",
            "Genre one-hot columns created: 21\n",
            "Star encoding columns created: 16\n",
            "Director encoding columns created: 10\n",
            "\n",
            "Example multi-genre movie:\n",
            "'Blood Red Sky': ['ACTION', 'THRILLER', 'HORROR']\n",
            "\n",
            "ETL Pipeline completed successfully!\n",
            "Original dataset: (9999, 9)\n",
            "Final dataset: (6777, 64)\n",
            "New features created: 55\n",
            "Files saved in: /Users/ekirimlioglu/Cursor/Rickg/DSE200-Day1/processed_data\n",
            "\n",
            "PARSING SUCCESS RATES:\n",
            "Director extraction: 60.4%\n",
            "Year parsing: 100.0%\n",
            "Genre parsing: 100.0%\n"
          ]
        }
      ],
      "source": [
        "# Show final dataset characteristics and new features\n",
        "fig, axes = plt.subplots(2, 3, figsize=(18, 12))\n",
        "\n",
        "# Rating distribution (before vs after)\n",
        "if 'RATING' in raw_df.columns and 'RATING' in df.columns:\n",
        "    axes[0,0].hist(raw_df['RATING'].dropna(), bins=20, alpha=0.7, label='Original', color='red')\n",
        "    axes[0,0].hist(df['RATING'].dropna(), bins=20, alpha=0.7, label='Processed', color='blue')\n",
        "    axes[0,0].set_title('Rating Distribution: Before vs After')\n",
        "    axes[0,0].set_xlabel('Rating')\n",
        "    axes[0,0].legend()\n",
        "\n",
        "# New feature: Genre count distribution\n",
        "if 'GENRE_COUNT' in df.columns:\n",
        "    genre_counts = df['GENRE_COUNT'].value_counts().sort_index()\n",
        "    axes[0,1].bar(genre_counts.index, genre_counts.values, color='purple', alpha=0.7)\n",
        "    axes[0,1].set_title('Number of Genres per Movie')\n",
        "    axes[0,1].set_xlabel('Genre Count')\n",
        "    axes[0,1].set_ylabel('Number of Movies')\n",
        "\n",
        "# Series vs Movies\n",
        "if 'IS_SERIES' in df.columns:\n",
        "    series_counts = df['IS_SERIES'].value_counts()\n",
        "    axes[0,2].pie(series_counts.values, labels=['Movies', 'Series'], autopct='%1.1f%%', \n",
        "                 colors=['lightblue', 'lightcoral'])\n",
        "    axes[0,2].set_title('Movies vs Series Distribution')\n",
        "\n",
        "# Primary genres distribution\n",
        "if 'PRIMARY_GENRE' in df.columns:\n",
        "    top_genres = df['PRIMARY_GENRE'].value_counts().head(10)\n",
        "    axes[1,0].barh(top_genres.index, top_genres.values, color='orange', alpha=0.7)\n",
        "    axes[1,0].set_title('Top 10 Primary Genres')\n",
        "    axes[1,0].set_xlabel('Count')\n",
        "\n",
        "# Movie age distribution\n",
        "if 'MOVIE_AGE' in df.columns:\n",
        "    axes[1,1].hist(df['MOVIE_AGE'].dropna(), bins=20, color='green', alpha=0.7)\n",
        "    axes[1,1].set_title('Movie Age Distribution')\n",
        "    axes[1,1].set_xlabel('Years Since Release')\n",
        "    axes[1,1].set_ylabel('Count')\n",
        "\n",
        "# Data completeness for key parsed fields\n",
        "new_fields = ['DIRECTOR', 'MAIN_STARS', 'YEAR_START', 'PRIMARY_GENRE']\n",
        "completeness_new = {}\n",
        "for field in new_fields:\n",
        "    if field in df.columns:\n",
        "        completeness_new[field] = (1 - df[field].isnull().sum() / len(df)) * 100\n",
        "\n",
        "if completeness_new:\n",
        "    axes[1,2].bar(completeness_new.keys(), completeness_new.values(), color='teal', alpha=0.7)\n",
        "    axes[1,2].set_title('Completeness of Parsed Fields')\n",
        "    axes[1,2].set_ylabel('Completeness %')\n",
        "    axes[1,2].tick_params(axis='x', rotation=45)\n",
        "\n",
        "plt.tight_layout()\n",
        "plt.show()\n",
        "\n",
        "# Display sample of processed data showing new fields\n",
        "print(\"SAMPLE OF PROCESSED DATA WITH NEW FIELDS:\")\n",
        "print(\"=\" * 50)\n",
        "sample_cols = ['MOVIES', 'YEAR_START', 'YEAR_END', 'PRIMARY_GENRE', 'GENRE_COUNT', \n",
        "               'DIRECTOR', 'RATING', 'IS_SERIES', 'MOVIE_AGE']\n",
        "available_cols = [col for col in sample_cols if col in df.columns]\n",
        "print(df[available_cols].head())\n",
        "\n",
        "# Show categorical encoding results\n",
        "print(f\"\\nCATEGORICAL ENCODING RESULTS:\")\n",
        "print(\"=\" * 40)\n",
        "genre_cols = [col for col in df.columns if col.startswith('GENRE_')]\n",
        "star_cols = [col for col in df.columns if col.startswith('STAR_')]\n",
        "director_cols = [col for col in df.columns if col.startswith('DIRECTOR_')]\n",
        "\n",
        "print(f\"Genre one-hot columns created: {len(genre_cols)}\")\n",
        "print(f\"Star encoding columns created: {len(star_cols)}\")\n",
        "print(f\"Director encoding columns created: {len(director_cols)}\")\n",
        "\n",
        "# Show example of multi-genre movie\n",
        "if genre_cols:\n",
        "    print(f\"\\nExample multi-genre movie:\")\n",
        "    for idx, row in df.head().iterrows():\n",
        "        genre_values = [(col.replace('GENRE_', ''), row[col]) for col in genre_cols if row[col] == 1]\n",
        "        if len(genre_values) > 1:\n",
        "            print(f\"'{row['MOVIES']}': {[g[0] for g in genre_values]}\")\n",
        "            break\n",
        "\n",
        "print(f\"\\nETL Pipeline completed successfully!\")\n",
        "print(f\"Original dataset: {raw_df.shape}\")\n",
        "print(f\"Final dataset: {df.shape}\")\n",
        "print(f\"New features created: {len(df.columns) - len(raw_df.columns)}\")\n",
        "print(f\"Files saved in: {output_dir.absolute()}\")\n",
        "\n",
        "# Show parsing success rates\n",
        "print(f\"\\nPARSING SUCCESS RATES:\")\n",
        "if 'DIRECTOR' in df.columns:\n",
        "    director_success = (1 - df['DIRECTOR'].isnull().sum() / len(df)) * 100\n",
        "    print(f\"Director extraction: {director_success:.1f}%\")\n",
        "if 'YEAR_START' in df.columns:\n",
        "    year_success = (1 - df['YEAR_START'].isnull().sum() / len(df)) * 100\n",
        "    print(f\"Year parsing: {year_success:.1f}%\")\n",
        "if 'PRIMARY_GENRE' in df.columns:\n",
        "    genre_success = (df['PRIMARY_GENRE'] != 'Unknown').sum() / len(df) * 100\n",
        "    print(f\"Genre parsing: {genre_success:.1f}%\")\n"
      ]
    },
    {
      "cell_type": "code",
      "execution_count": 13,
      "metadata": {},
      "outputs": [
        {
          "name": "stdout",
          "output_type": "stream",
          "text": [
            "/Users/ekirimlioglu/Cursor/Rickg/DSE200-Day1/.venv/bin/python: No module named pip\n",
            "Note: you may need to restart the kernel to use updated packages.\n"
          ]
        }
      ],
      "source": [
        "%pip install scikit-learn"
      ]
    },
    {
      "cell_type": "code",
      "execution_count": 14,
      "metadata": {},
      "outputs": [
        {
          "name": "stdout",
          "output_type": "stream",
          "text": [
            "Analysis based on 6777 movies with complete data\n",
            "Model R² Score: 0.674\n",
            "\n",
            "TOP 10 MOST IMPORTANT FEATURES FOR PREDICTING RATING:\n",
            "-------------------------------------------------------\n",
            " 1. Runtime                             0.414\n",
            " 2. Votes                               0.219\n",
            " 3. Genre: Documentary                  0.069\n",
            " 4. Movie Age                           0.045\n",
            " 5. Year Start                          0.044\n",
            " 6. Genre: Drama                        0.038\n",
            " 7. Genre: Horror                       0.035\n",
            " 8. Star: Count                         0.023\n",
            " 9. Genre: Action                       0.018\n",
            "10. Genre: Count                        0.015\n",
            "\n",
            "INSIGHT: 'RUNTIME' is the strongest predictor of movie ratings!\n"
          ]
        }
      ],
      "source": [
        "# BONUS: Quick Feature Importance Analysis\n",
        "\n",
        "from sklearn.ensemble import RandomForestRegressor\n",
        "\n",
        "# Prepare features for analysis\n",
        "feature_cols = []\n",
        "\n",
        "# Add numerical features\n",
        "numerical_features = ['RUNTIME', 'VOTES', 'YEAR_START', 'MOVIE_AGE', 'GENRE_COUNT', 'STAR_COUNT']\n",
        "for col in numerical_features:\n",
        "    if col in df.columns:\n",
        "        feature_cols.append(col)\n",
        "\n",
        "# Add categorical features (limit to top 15 to avoid overfitting)\n",
        "categorical_features = [col for col in df.columns if col.startswith(('GENRE_', 'STAR_', 'DIRECTOR_'))]\n",
        "feature_cols.extend(categorical_features[:15])\n",
        "\n",
        "# Remove any duplicate columns\n",
        "feature_cols = list(dict.fromkeys(feature_cols))\n",
        "\n",
        "# Prepare data for analysis\n",
        "analysis_df = df[feature_cols + ['RATING', 'MOVIES']].dropna()\n",
        "\n",
        "# Convert VOTES column to numeric if it's still string\n",
        "if 'VOTES' in analysis_df.columns:\n",
        "    analysis_df['VOTES'] = pd.to_numeric(analysis_df['VOTES'].astype(str).str.replace(',', ''), errors='coerce')\n",
        "\n",
        "# Ensure we have valid feature columns that exist in the dataframe\n",
        "valid_feature_cols = [col for col in feature_cols if col in analysis_df.columns]\n",
        "\n",
        "X = analysis_df[valid_feature_cols]\n",
        "y = analysis_df['RATING']\n",
        "\n",
        "# Train Random Forest model\n",
        "rf = RandomForestRegressor(n_estimators=100, random_state=42, max_depth=10)\n",
        "rf.fit(X, y)\n",
        "\n",
        "# Get feature importances\n",
        "importances = rf.feature_importances_\n",
        "\n",
        "# Create feature importance dataframe\n",
        "feature_importance_df = pd.DataFrame({\n",
        "    'Feature': valid_feature_cols,\n",
        "    'Importance': importances\n",
        "}).sort_values('Importance', ascending=False)\n",
        "\n",
        "print(f\"Analysis based on {len(analysis_df)} movies with complete data\")\n",
        "print(f\"Model R² Score: {rf.score(X, y):.3f}\")\n",
        "print(\"\\nTOP 10 MOST IMPORTANT FEATURES FOR PREDICTING RATING:\")\n",
        "print(\"-\" * 55)\n",
        "\n",
        "for i, (_, row) in enumerate(feature_importance_df.head(10).iterrows(), 1):\n",
        "    feature_name = row['Feature']\n",
        "    importance = row['Importance']\n",
        "    \n",
        "    if feature_name.startswith('GENRE_'):\n",
        "        display_name = f\"Genre: {feature_name.replace('GENRE_', '').replace('_', ' ').title()}\"\n",
        "    elif feature_name.startswith('STAR_'):\n",
        "        display_name = f\"Star: {feature_name.replace('STAR_', '').replace('_', ' ').title()}\"\n",
        "    elif feature_name.startswith('DIRECTOR_'):\n",
        "        display_name = f\"Director: {feature_name.replace('DIRECTOR_', '').replace('_', ' ').title()}\"\n",
        "    else:\n",
        "        display_name = feature_name.replace('_', ' ').title()\n",
        "    \n",
        "    print(f\"{i:2d}. {display_name:<35} {importance:.3f}\")\n",
        "\n",
        "top_feature = feature_importance_df.iloc[0]\n",
        "print(f\"\\nINSIGHT: '{top_feature['Feature']}' is the strongest predictor of movie ratings!\")\n",
        "\n"
      ]
    },
    {
      "cell_type": "code",
      "execution_count": 15,
      "metadata": {},
      "outputs": [
        {
          "name": "stdout",
          "output_type": "stream",
          "text": [
            "/Users/ekirimlioglu/Cursor/Rickg/DSE200-Day1/.venv/bin/python: No module named pip\n",
            "Note: you may need to restart the kernel to use updated packages.\n",
            "/Users/ekirimlioglu/Cursor/Rickg/DSE200-Day1/.venv/bin/python: No module named pip\n",
            "Note: you may need to restart the kernel to use updated packages.\n"
          ]
        }
      ],
      "source": [
        "%pip install torch\n",
        "%pip install plotly"
      ]
    },
    {
      "cell_type": "code",
      "execution_count": null,
      "metadata": {},
      "outputs": [
        {
          "name": "stdout",
          "output_type": "stream",
          "text": [
            "Training neural network and collecting trajectory...\n",
            "Epoch 0: Loss = 45.4260\n",
            "Epoch 20: Loss = 3.6412\n",
            "Epoch 40: Loss = 1.4110\n",
            "Epoch 60: Loss = 1.0729\n",
            "Epoch 80: Loss = 0.9956\n",
            "\n",
            "Training complete! Final loss: 0.9700\n"
          ]
        },
        {
          "data": {
            "image/png": "[encoded data removed]",
            "text/plain": [
              "<Figure size 1000x600 with 1 Axes>"
            ]
          },
          "metadata": {},
          "output_type": "display_data"
        },
        {
          "name": "stdout",
          "output_type": "stream",
          "text": [
            "\n",
            "Generating interactive 3D loss landscape...\n",
            "Computing loss surface...\n"
          ]
        },
        {
          "data": {
            "application/vnd.plotly.v1+json": {
              "config": {
                "plotlyServerURL": "https://plot.ly"
              },
              "data": [
                {
                  "colorbar": {
                    "dtick": 0.5,
                    "tick0": 0,
                    "tickmode": "linear",
                    "title": {
                      "text": "Loss"
                    }
                  },
                  "colorscale": [
                    [
                      0,
                      "#440154"
                    ],
                    [
                      0.1111111111111111,
                      "#482878"
                    ],
                    [
                      0.2222222222222222,
                      "#3e4989"
                    ],
                    [
                      0.3333333333333333,
                      "#31688e"
                    ],
                    [
                      0.4444444444444444,
                      "#26828e"
                    ],
                    [
                      0.5555555555555556,
                      "#1f9e89"
                    ],
                    [
                      0.6666666666666666,
                      "#35b779"
                    ],
                    [
                      0.7777777777777778,
                      "#6ece58"
                    ],
                    [
                      0.8888888888888888,
                      "#b5de2b"
                    ],
                    [
                      1,
                      "#fde725"
                    ]
                  ],
                  "contours": {
                    "z": {
                      "highlightcolor": "limegreen",
                      "project": {
                        "z": true
                      },
                      "show": true,
                      "usecolormap": true
                    }
                  },
                  "name": "Loss Surface",
                  "opacity": 0.8,
                  "showscale": true,
                  "type": "surface",
                  "x": {
                    "bdata": "TdE/wPYiNMCedCjAR8YcwPAXEcCZaQXAg3bzv9QZ3L8mvcS/eGCtv8kDlr80Tn2/2JROv3zbH784ROK+gNGEviB7nb3AT9g9qIaTPmj58D4QNic/bO9VP2ZUgj8SsZk/wg2xP3JqyD8ex98/ziP3Pz9AB0CV7hJA7ZweQENLKkCb+TVA86dBQElWTUChBFlA97JkQE9hcECnD3xA/t6DQCq2iUBWjY9AgmSVQK47m0DaEqFABuqmQDDBrEBcmLJAiG+4QLNGvkA=",
                    "dtype": "f4"
                  },
                  "y": {
                    "bdata": "FMd0wCeda8A5c2LATElZwF8fUMBy9UbAhMs9wJehNMCqdyvAvE0iwM8jGcDi+Q/A9M8GwA5M+780+Oi/WKTWv35QxL+k/LG/yKifv+5Ujb8oAna/cFpRv7yyLL8ICwi/oMbGvnDuer5An9C9wDwpPQDuPD5wxqc+4BXxPqAyHT9Y2kE/EIJmP+CUhT+86Jc/mDyqP3CQvD9M5M4/KDjhPwCM8z/u7wJA3BkMQMhDFUC2bR5ApJcnQJDBMEB+6zlAbBVDQFg/TEA=",
                    "dtype": "f4"
                  },
                  "z": {
                    "bdata": "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",
                    "dtype": "f8",
                    "shape": "50, 50"
                  }
                },
                {
                  "line": {
                    "color": "red",
                    "width": 10
                  },
                  "marker": {
                    "color": "red",
                    "size": 8,
                    "symbol": "circle"
                  },
                  "mode": "lines+markers",
                  "name": "Optimization Path",
                  "type": "scatter3d",
                  "x": {
                    "bdata": "Zo18QMUzZUCIDwJAdtpiPyySKj+J7+Y+mhA8veQE2L7wScq+egzKvmbrGL9Vaz2/hPs7vxf4R79aKF6/XIxgvxwdYr+/eG6/PLxzv5N/db+PIny/M0V/vw==",
                    "dtype": "f4"
                  },
                  "y": {
                    "bdata": "r36YPwMFXz9pz0m/J47pv8xdmb9NZTS/tVguvxEoKr8t0MO+O5YLvkTGYL3BRdM8CPElPgN0gT5hn5w+3OHCPqMj5T4NEfk+Q+oGP2dNET/txBg/L70ePw==",
                    "dtype": "f4"
                  },
                  "z": [
                    45.42597198486328,
                    45.42597198486328,
                    14.501579284667969,
                    8.601412773132324,
                    1.910538673400879,
                    3.6411805152893066,
                    2.026124954223633,
                    1.9663901329040527,
                    1.3002378940582275,
                    1.411028265953064,
                    1.1674634218215942,
                    1.1841787099838257,
                    1.069170355796814,
                    1.0729418992996216,
                    1.03805410861969,
                    1.0175025463104248,
                    1.0105863809585571,
                    0.9955736994743347,
                    0.989111602306366,
                    0.9821799397468567,
                    0.9751390218734741,
                    0.9700050950050354
                  ]
                },
                {
                  "marker": {
                    "color": "green",
                    "size": 20,
                    "symbol": "diamond"
                  },
                  "mode": "markers",
                  "name": "Start",
                  "type": "scatter3d",
                  "x": [
                    3.9461302757263184
                  ],
                  "y": [
                    1.1913660764694214
                  ],
                  "z": [
                    45.42597198486328
                  ]
                },
                {
                  "marker": {
                    "color": "blue",
                    "size": 20,
                    "symbol": "square"
                  },
                  "mode": "markers",
                  "name": "End",
                  "type": "scatter3d",
                  "x": [
                    -0.997149646282196
                  ],
                  "y": [
                    0.6200742125511169
                  ],
                  "z": [
                    0.9700050950050354
                  ]
                }
              ],
              "layout": {
                "height": 1000,
                "legend": {
                  "bgcolor": "rgba(255, 255, 255, 0.9)",
                  "bordercolor": "black",
                  "borderwidth": 2,
                  "font": {
                    "size": 14
                  },
                  "x": 0.02,
                  "y": 0.98
                },
                "margin": {
                  "b": 0,
                  "l": 0,
                  "r": 0,
                  "t": 50
                },
                "scene": {
                  "aspectmode": "manual",
                  "aspectratio": {
                    "x": 1,
                    "y": 1,
                    "z": 0.7
                  },
                  "camera": {
                    "center": {
                      "x": 0,
                      "y": 0,
                      "z": 0
                    },
                    "eye": {
                      "x": 1.5,
                      "y": 1.5,
                      "z": 1.2
                    }
                  },
                  "xaxis": {
                    "gridcolor": "rgb(255, 255, 255)",
                    "gridwidth": 2,
                    "title": {
                      "text": "First Principal Component"
                    }
                  },
                  "yaxis": {
                    "gridcolor": "rgb(255, 255, 255)",
                    "gridwidth": 2,
                    "title": {
                      "text": "Second Principal Component"
                    }
                  },
                  "zaxis": {
                    "gridcolor": "rgb(255, 255, 255)",
                    "gridwidth": 2,
                    "title": {
                      "text": "Loss"
                    }
                  }
                },
                "template": {
                  "data": {
                    "bar": [
                      {
                        "error_x": {
                          "color": "#2a3f5f"
                        },
                        "error_y": {
                          "color": "#2a3f5f"
                        },
                        "marker": {
                          "line": {
                            "color": "#E5ECF6",
                            "width": 0.5
                          },
                          "pattern": {
                            "fillmode": "overlay",
                            "size": 10,
                            "solidity": 0.2
                          }
                        },
                        "type": "bar"
                      }
                    ],
                    "barpolar": [
                      {
                        "marker": {
                          "line": {
                            "color": "#E5ECF6",
                            "width": 0.5
                          },
                          "pattern": {
                            "fillmode": "overlay",
                            "size": 10,
                            "solidity": 0.2
                          }
                        },
                        "type": "barpolar"
                      }
                    ],
                    "carpet": [
                      {
                        "aaxis": {
                          "endlinecolor": "#2a3f5f",
                          "gridcolor": "white",
                          "linecolor": "white",
                          "minorgridcolor": "white",
                          "startlinecolor": "#2a3f5f"
                        },
                        "baxis": {
                          "endlinecolor": "#2a3f5f",
                          "gridcolor": "white",
                          "linecolor": "white",
                          "minorgridcolor": "white",
                          "startlinecolor": "#2a3f5f"
                        },
                        "type": "carpet"
                      }
                    ],
                    "choropleth": [
                      {
                        "colorbar": {
                          "outlinewidth": 0,
                          "ticks": ""
                        },
                        "type": "choropleth"
                      }
                    ],
                    "contour": [
                      {
                        "colorbar": {
                          "outlinewidth": 0,
                          "ticks": ""
                        },
                        "colorscale": [
                          [
                            0,
                            "#0d0887"
                          ],
                          [
                            0.1111111111111111,
                            "#46039f"
                          ],
                          [
                            0.2222222222222222,
                            "#7201a8"
                          ],
                          [
                            0.3333333333333333,
                            "#9c179e"
                          ],
                          [
                            0.4444444444444444,
                            "#bd3786"
                          ],
                          [
                            0.5555555555555556,
                            "#d8576b"
                          ],
                          [
                            0.6666666666666666,
                            "#ed7953"
                          ],
                          [
                            0.7777777777777778,
                            "#fb9f3a"
                          ],
                          [
                            0.8888888888888888,
                            "#fdca26"
                          ],
                          [
                            1,
                            "#f0f921"
                          ]
                        ],
                        "type": "contour"
                      }
                    ],
                    "contourcarpet": [
                      {
                        "colorbar": {
                          "outlinewidth": 0,
                          "ticks": ""
                        },
                        "type": "contourcarpet"
                      }
                    ],
                    "heatmap": [
                      {
                        "colorbar": {
                          "outlinewidth": 0,
                          "ticks": ""
                        },
                        "colorscale": [
                          [
                            0,
                            "#0d0887"
                          ],
                          [
                            0.1111111111111111,
                            "#46039f"
                          ],
                          [
                            0.2222222222222222,
                            "#7201a8"
                          ],
                          [
                            0.3333333333333333,
                            "#9c179e"
                          ],
                          [
                            0.4444444444444444,
                            "#bd3786"
                          ],
                          [
                            0.5555555555555556,
                            "#d8576b"
                          ],
                          [
                            0.6666666666666666,
                            "#ed7953"
                          ],
                          [
                            0.7777777777777778,
                            "#fb9f3a"
                          ],
                          [
                            0.8888888888888888,
                            "#fdca26"
                          ],
                          [
                            1,
                            "#f0f921"
                          ]
                        ],
                        "type": "heatmap"
                      }
                    ],
                    "histogram": [
                      {
                        "marker": {
                          "pattern": {
                            "fillmode": "overlay",
                            "size": 10,
                            "solidity": 0.2
                          }
                        },
                        "type": "histogram"
                      }
                    ],
                    "histogram2d": [
                      {
                        "colorbar": {
                          "outlinewidth": 0,
                          "ticks": ""
                        },
                        "colorscale": [
                          [
                            0,
                            "#0d0887"
                          ],
                          [
                            0.1111111111111111,
                            "#46039f"
                          ],
                          [
                            0.2222222222222222,
                            "#7201a8"
                          ],
                          [
                            0.3333333333333333,
                            "#9c179e"
                          ],
                          [
                            0.4444444444444444,
                            "#bd3786"
                          ],
                          [
                            0.5555555555555556,
                            "#d8576b"
                          ],
                          [
                            0.6666666666666666,
                            "#ed7953"
                          ],
                          [
                            0.7777777777777778,
                            "#fb9f3a"
                          ],
                          [
                            0.8888888888888888,
                            "#fdca26"
                          ],
                          [
                            1,
                            "#f0f921"
                          ]
                        ],
                        "type": "histogram2d"
                      }
                    ],
                    "histogram2dcontour": [
                      {
                        "colorbar": {
                          "outlinewidth": 0,
                          "ticks": ""
                        },
                        "colorscale": [
                          [
                            0,
                            "#0d0887"
                          ],
                          [
                            0.1111111111111111,
                            "#46039f"
                          ],
                          [
                            0.2222222222222222,
                            "#7201a8"
                          ],
                          [
                            0.3333333333333333,
                            "#9c179e"
                          ],
                          [
                            0.4444444444444444,
                            "#bd3786"
                          ],
                          [
                            0.5555555555555556,
                            "#d8576b"
                          ],
                          [
                            0.6666666666666666,
                            "#ed7953"
                          ],
                          [
                            0.7777777777777778,
                            "#fb9f3a"
                          ],
                          [
                            0.8888888888888888,
                            "#fdca26"
                          ],
                          [
                            1,
                            "#f0f921"
                          ]
                        ],
                        "type": "histogram2dcontour"
                      }
                    ],
                    "mesh3d": [
                      {
                        "colorbar": {
                          "outlinewidth": 0,
                          "ticks": ""
                        },
                        "type": "mesh3d"
                      }
                    ],
                    "parcoords": [
                      {
                        "line": {
                          "colorbar": {
                            "outlinewidth": 0,
                            "ticks": ""
                          }
                        },
                        "type": "parcoords"
                      }
                    ],
                    "pie": [
                      {
                        "automargin": true,
                        "type": "pie"
                      }
                    ],
                    "scatter": [
                      {
                        "fillpattern": {
                          "fillmode": "overlay",
                          "size": 10,
                          "solidity": 0.2
                        },
                        "type": "scatter"
                      }
                    ],
                    "scatter3d": [
                      {
                        "line": {
                          "colorbar": {
                            "outlinewidth": 0,
                            "ticks": ""
                          }
                        },
                        "marker": {
                          "colorbar": {
                            "outlinewidth": 0,
                            "ticks": ""
                          }
                        },
                        "type": "scatter3d"
                      }
                    ],
                    "scattercarpet": [
                      {
                        "marker": {
                          "colorbar": {
                            "outlinewidth": 0,
                            "ticks": ""
                          }
                        },
                        "type": "scattercarpet"
                      }
                    ],
                    "scattergeo": [
                      {
                        "marker": {
                          "colorbar": {
                            "outlinewidth": 0,
                            "ticks": ""
                          }
                        },
                        "type": "scattergeo"
                      }
                    ],
                    "scattergl": [
                      {
                        "marker": {
                          "colorbar": {
                            "outlinewidth": 0,
                            "ticks": ""
                          }
                        },
                        "type": "scattergl"
                      }
                    ],
                    "scattermap": [
                      {
                        "marker": {
                          "colorbar": {
                            "outlinewidth": 0,
                            "ticks": ""
                          }
                        },
                        "type": "scattermap"
                      }
                    ],
                    "scattermapbox": [
                      {
                        "marker": {
                          "colorbar": {
                            "outlinewidth": 0,
                            "ticks": ""
                          }
                        },
                        "type": "scattermapbox"
                      }
                    ],
                    "scatterpolar": [
                      {
                        "marker": {
                          "colorbar": {
                            "outlinewidth": 0,
                            "ticks": ""
                          }
                        },
                        "type": "scatterpolar"
                      }
                    ],
                    "scatterpolargl": [
                      {
                        "marker": {
                          "colorbar": {
                            "outlinewidth": 0,
                            "ticks": ""
                          }
                        },
                        "type": "scatterpolargl"
                      }
                    ],
                    "scatterternary": [
                      {
                        "marker": {
                          "colorbar": {
                            "outlinewidth": 0,
                            "ticks": ""
                          }
                        },
                        "type": "scatterternary"
                      }
                    ],
                    "surface": [
                      {
                        "colorbar": {
                          "outlinewidth": 0,
                          "ticks": ""
                        },
                        "colorscale": [
                          [
                            0,
                            "#0d0887"
                          ],
                          [
                            0.1111111111111111,
                            "#46039f"
                          ],
                          [
                            0.2222222222222222,
                            "#7201a8"
                          ],
                          [
                            0.3333333333333333,
                            "#9c179e"
                          ],
                          [
                            0.4444444444444444,
                            "#bd3786"
                          ],
                          [
                            0.5555555555555556,
                            "#d8576b"
                          ],
                          [
                            0.6666666666666666,
                            "#ed7953"
                          ],
                          [
                            0.7777777777777778,
                            "#fb9f3a"
                          ],
                          [
                            0.8888888888888888,
                            "#fdca26"
                          ],
                          [
                            1,
                            "#f0f921"
                          ]
                        ],
                        "type": "surface"
                      }
                    ],
                    "table": [
                      {
                        "cells": {
                          "fill": {
                            "color": "#EBF0F8"
                          },
                          "line": {
                            "color": "white"
                          }
                        },
                        "header": {
                          "fill": {
                            "color": "#C8D4E3"
                          },
                          "line": {
                            "color": "white"
                          }
                        },
                        "type": "table"
                      }
                    ]
                  },
                  "layout": {
                    "annotationdefaults": {
                      "arrowcolor": "#2a3f5f",
                      "arrowhead": 0,
                      "arrowwidth": 1
                    },
                    "autotypenumbers": "strict",
                    "coloraxis": {
                      "colorbar": {
                        "outlinewidth": 0,
                        "ticks": ""
                      }
                    },
                    "colorscale": {
                      "diverging": [
                        [
                          0,
                          "#8e0152"
                        ],
                        [
                          0.1,
                          "#c51b7d"
                        ],
                        [
                          0.2,
                          "#de77ae"
                        ],
                        [
                          0.3,
                          "#f1b6da"
                        ],
                        [
                          0.4,
                          "#fde0ef"
                        ],
                        [
                          0.5,
                          "#f7f7f7"
                        ],
                        [
                          0.6,
                          "#e6f5d0"
                        ],
                        [
                          0.7,
                          "#b8e186"
                        ],
                        [
                          0.8,
                          "#7fbc41"
                        ],
                        [
                          0.9,
                          "#4d9221"
                        ],
                        [
                          1,
                          "#276419"
                        ]
                      ],
                      "sequential": [
                        [
                          0,
                          "#0d0887"
                        ],
                        [
                          0.1111111111111111,
                          "#46039f"
                        ],
                        [
                          0.2222222222222222,
                          "#7201a8"
                        ],
                        [
                          0.3333333333333333,
                          "#9c179e"
                        ],
                        [
                          0.4444444444444444,
                          "#bd3786"
                        ],
                        [
                          0.5555555555555556,
                          "#d8576b"
                        ],
                        [
                          0.6666666666666666,
                          "#ed7953"
                        ],
                        [
                          0.7777777777777778,
                          "#fb9f3a"
                        ],
                        [
                          0.8888888888888888,
                          "#fdca26"
                        ],
                        [
                          1,
                          "#f0f921"
                        ]
                      ],
                      "sequentialminus": [
                        [
                          0,
                          "#0d0887"
                        ],
                        [
                          0.1111111111111111,
                          "#46039f"
                        ],
                        [
                          0.2222222222222222,
                          "#7201a8"
                        ],
                        [
                          0.3333333333333333,
                          "#9c179e"
                        ],
                        [
                          0.4444444444444444,
                          "#bd3786"
                        ],
                        [
                          0.5555555555555556,
                          "#d8576b"
                        ],
                        [
                          0.6666666666666666,
                          "#ed7953"
                        ],
                        [
                          0.7777777777777778,
                          "#fb9f3a"
                        ],
                        [
                          0.8888888888888888,
                          "#fdca26"
                        ],
                        [
                          1,
                          "#f0f921"
                        ]
                      ]
                    },
                    "colorway": [
                      "#636efa",
                      "#EF553B",
                      "#00cc96",
                      "#ab63fa",
                      "#FFA15A",
                      "#19d3f3",
                      "#FF6692",
                      "#B6E880",
                      "#FF97FF",
                      "#FECB52"
                    ],
                    "font": {
                      "color": "#2a3f5f"
                    },
                    "geo": {
                      "bgcolor": "white",
                      "lakecolor": "white",
                      "landcolor": "#E5ECF6",
                      "showlakes": true,
                      "showland": true,
                      "subunitcolor": "white"
                    },
                    "hoverlabel": {
                      "align": "left"
                    },
                    "hovermode": "closest",
                    "mapbox": {
                      "style": "light"
                    },
                    "paper_bgcolor": "white",
                    "plot_bgcolor": "#E5ECF6",
                    "polar": {
                      "angularaxis": {
                        "gridcolor": "white",
                        "linecolor": "white",
                        "ticks": ""
                      },
                      "bgcolor": "#E5ECF6",
                      "radialaxis": {
                        "gridcolor": "white",
                        "linecolor": "white",
                        "ticks": ""
                      }
                    },
                    "scene": {
                      "xaxis": {
                        "backgroundcolor": "#E5ECF6",
                        "gridcolor": "white",
                        "gridwidth": 2,
                        "linecolor": "white",
                        "showbackground": true,
                        "ticks": "",
                        "zerolinecolor": "white"
                      },
                      "yaxis": {
                        "backgroundcolor": "#E5ECF6",
                        "gridcolor": "white",
                        "gridwidth": 2,
                        "linecolor": "white",
                        "showbackground": true,
                        "ticks": "",
                        "zerolinecolor": "white"
                      },
                      "zaxis": {
                        "backgroundcolor": "#E5ECF6",
                        "gridcolor": "white",
                        "gridwidth": 2,
                        "linecolor": "white",
                        "showbackground": true,
                        "ticks": "",
                        "zerolinecolor": "white"
                      }
                    },
                    "shapedefaults": {
                      "line": {
                        "color": "#2a3f5f"
                      }
                    },
                    "ternary": {
                      "aaxis": {
                        "gridcolor": "white",
                        "linecolor": "white",
                        "ticks": ""
                      },
                      "baxis": {
                        "gridcolor": "white",
                        "linecolor": "white",
                        "ticks": ""
                      },
                      "bgcolor": "#E5ECF6",
                      "caxis": {
                        "gridcolor": "white",
                        "linecolor": "white",
                        "ticks": ""
                      }
                    },
                    "title": {
                      "x": 0.05
                    },
                    "xaxis": {
                      "automargin": true,
                      "gridcolor": "white",
                      "linecolor": "white",
                      "ticks": "",
                      "title": {
                        "standoff": 15
                      },
                      "zerolinecolor": "white",
                      "zerolinewidth": 2
                    },
                    "yaxis": {
                      "automargin": true,
                      "gridcolor": "white",
                      "linecolor": "white",
                      "ticks": "",
                      "title": {
                        "standoff": 15
                      },
                      "zerolinecolor": "white",
                      "zerolinewidth": 2
                    }
                  }
                },
                "title": {
                  "font": {
                    "size": 24
                  },
                  "text": "Interactive 3D Loss Landscape with Optimization Trajectory",
                  "x": 0.5,
                  "xanchor": "center"
                },
                "width": 1400
              }
            }
          },
          "metadata": {},
          "output_type": "display_data"
        },
        {
          "name": "stdout",
          "output_type": "stream",
          "text": [
            "\n",
            "Optimization Summary:\n",
            "Initial Loss: 45.4260\n",
            "Final Loss: 0.9700\n",
            "Improvement: 97.9%\n",
            "Number of trajectory points: 22\n",
            "\n",
            "Interactive controls:\n",
            "- Rotate: Click and drag\n",
            "- Zoom: Scroll or pinch\n",
            "- Pan: Shift + click and drag\n",
            "- Reset: Double click\n",
            "- Hover over trajectory to see loss values\n"
          ]
        }
      ],
      "source": [
        "# bonus number 2 neural nets\n",
        "# Simple Neural Network for Rating Prediction\n",
        "import torch\n",
        "import torch.nn as nn\n",
        "from sklearn.preprocessing import StandardScaler\n",
        "from sklearn.model_selection import train_test_split\n",
        "import numpy as np\n",
        "import plotly.graph_objects as go\n",
        "from sklearn.decomposition import PCA\n",
        "\n",
        "# Prepare data\n",
        "X_train, X_test, y_train, y_test = train_test_split(X, y, test_size=0.2, random_state=42)\n",
        "\n",
        "# Scale features\n",
        "scaler = StandardScaler()\n",
        "X_train_scaled = scaler.fit_transform(X_train)\n",
        "X_test_scaled = scaler.transform(X_test)\n",
        "\n",
        "# Convert to PyTorch tensors\n",
        "X_train_tensor = torch.FloatTensor(X_train_scaled)\n",
        "y_train_tensor = torch.FloatTensor(y_train.values.reshape(-1, 1))\n",
        "X_test_tensor = torch.FloatTensor(X_test_scaled)\n",
        "y_test_tensor = torch.FloatTensor(y_test.values.reshape(-1, 1))\n",
        "\n",
        "# Define neural network\n",
        "class RatingPredictor(nn.Module):\n",
        "    def __init__(self, input_size):\n",
        "        super().__init__()\n",
        "        self.layers = nn.Sequential(\n",
        "            nn.Linear(input_size, 64),\n",
        "            nn.ReLU(),\n",
        "            nn.Linear(64, 32),\n",
        "            nn.ReLU(),\n",
        "            nn.Linear(32, 1)\n",
        "        )\n",
        "    \n",
        "    def forward(self, x):\n",
        "        return self.layers(x)\n",
        "\n",
        "# Function to get model parameters as vector\n",
        "def get_params_vector(model):\n",
        "    params = []\n",
        "    for p in model.parameters():\n",
        "        params.extend(p.data.cpu().numpy().flatten())\n",
        "    return np.array(params)\n",
        "\n",
        "# Function to set model parameters from vector\n",
        "def set_params_from_vector(model, params_vector):\n",
        "    idx = 0\n",
        "    for p in model.parameters():\n",
        "        param_length = p.numel()\n",
        "        p.data = torch.from_numpy(params_vector[idx:idx+param_length]).float().reshape(p.shape)\n",
        "        idx += param_length\n",
        "\n",
        "# Function to evaluate loss at given parameters\n",
        "def evaluate_loss(params_vector, model_template, X, y):\n",
        "    model = RatingPredictor(X.shape[1])\n",
        "    set_params_from_vector(model, params_vector)\n",
        "    model.eval()\n",
        "    with torch.no_grad():\n",
        "        predictions = model(X)\n",
        "        loss = nn.MSELoss()(predictions, y)\n",
        "    return loss.item()\n",
        "\n",
        "# Train model and collect trajectory\n",
        "print(\"Training neural network and collecting trajectory...\")\n",
        "model = RatingPredictor(X_train_scaled.shape[1])\n",
        "optimizer = torch.optim.Adam(model.parameters(), lr=0.01)\n",
        "loss_fn = nn.MSELoss()\n",
        "\n",
        "# Store trajectory\n",
        "trajectory_params = []\n",
        "trajectory_losses = []\n",
        "\n",
        "# Initial parameters\n",
        "initial_params = get_params_vector(model)\n",
        "trajectory_params.append(initial_params.copy())\n",
        "trajectory_losses.append(evaluate_loss(initial_params, model, X_train_tensor, y_train_tensor))\n",
        "\n",
        "# Train for 100 epochs\n",
        "epochs = 100\n",
        "for epoch in range(epochs):\n",
        "    predictions = model(X_train_tensor)\n",
        "    loss = loss_fn(predictions, y_train_tensor)\n",
        "    \n",
        "    optimizer.zero_grad()\n",
        "    loss.backward()\n",
        "    optimizer.step()\n",
        "    \n",
        "    # Save trajectory every 5 epochs\n",
        "    if epoch % 5 == 0:\n",
        "        current_params = get_params_vector(model)\n",
        "        trajectory_params.append(current_params.copy())\n",
        "        trajectory_losses.append(loss.item())\n",
        "        \n",
        "        if epoch % 20 == 0:\n",
        "            print(f\"Epoch {epoch}: Loss = {loss.item():.4f}\")\n",
        "\n",
        "# Final parameters\n",
        "final_params = get_params_vector(model)\n",
        "trajectory_params.append(final_params.copy())\n",
        "trajectory_losses.append(evaluate_loss(final_params, model, X_train_tensor, y_train_tensor))\n",
        "\n",
        "print(f\"\\nTraining complete! Final loss: {trajectory_losses[-1]:.4f}\")\n",
        "\n",
        "# Plot loss per epoch (simple 2D plot)\n",
        "plt.figure(figsize=(10, 6))\n",
        "plt.plot(range(0, len(trajectory_losses)*5, 5), trajectory_losses, 'b-', linewidth=2.5)\n",
        "plt.title('Training Loss per Epoch', fontsize=16, fontweight='bold')\n",
        "plt.xlabel('Epoch', fontsize=12)\n",
        "plt.ylabel('MSE Loss', fontsize=12)\n",
        "plt.yscale('log')\n",
        "plt.grid(True, alpha=0.3)\n",
        "plt.tight_layout()\n",
        "plt.show()\n",
        "\n",
        "# Create 3D loss landscape visualization\n",
        "print(\"\\nGenerating interactive 3D loss landscape...\")\n",
        "\n",
        "\n",
        "trajectory_params_array = np.array(trajectory_params)\n",
        "pca = PCA(n_components=2)\n",
        "trajectory_2d = pca.fit_transform(trajectory_params_array)\n",
        "\n",
        "# Create grid around trajectory\n",
        "margin = 2.0\n",
        "x_min, x_max = trajectory_2d[:, 0].min() - margin, trajectory_2d[:, 0].max() + margin\n",
        "y_min, y_max = trajectory_2d[:, 1].min() - margin, trajectory_2d[:, 1].max() + margin\n",
        "\n",
        "# Create dense grid\n",
        "grid_size = 50\n",
        "x_range = np.linspace(x_min, x_max, grid_size)\n",
        "y_range = np.linspace(y_min, y_max, grid_size)\n",
        "X_grid, Y_grid = np.meshgrid(x_range, y_range)\n",
        "\n",
        "# Compute loss surface\n",
        "print(\"Computing loss surface...\")\n",
        "Z_grid = np.zeros((grid_size, grid_size))\n",
        "\n",
        "for i in range(grid_size):\n",
        "    for j in range(grid_size):\n",
        "        # Get 2D point\n",
        "        point_2d = np.array([X_grid[i, j], Y_grid[i, j]])\n",
        "        \n",
        "        # Find closest trajectory point for interpolation\n",
        "        distances = np.sum((trajectory_2d - point_2d)**2, axis=1)\n",
        "        closest_idx = np.argmin(distances)\n",
        "        \n",
        "        # Interpolate in parameter space\n",
        "        if closest_idx == 0:\n",
        "            direction = trajectory_params[1] - trajectory_params[0]\n",
        "        elif closest_idx == len(trajectory_params) - 1:\n",
        "            direction = trajectory_params[-1] - trajectory_params[-2]\n",
        "        else:\n",
        "            direction = trajectory_params[closest_idx + 1] - trajectory_params[closest_idx - 1]\n",
        "        \n",
        "        # Project displacement onto parameter space\n",
        "        displacement_2d = point_2d - trajectory_2d[closest_idx]\n",
        "        \n",
        "        # Create perturbation in parameter space\n",
        "        perturbation = np.zeros_like(trajectory_params[0])\n",
        "        if len(pca.components_) >= 2:\n",
        "            perturbation += displacement_2d[0] * pca.components_[0] * np.std(trajectory_params_array[:, 0])\n",
        "            perturbation += displacement_2d[1] * pca.components_[1] * np.std(trajectory_params_array[:, 1])\n",
        "        \n",
        "        # Evaluate loss at perturbed point\n",
        "        perturbed_params = trajectory_params[closest_idx] + perturbation * 0.5\n",
        "        Z_grid[i, j] = evaluate_loss(perturbed_params, model, X_train_tensor, y_train_tensor)\n",
        "\n",
        "# Create interactive 3D plot\n",
        "fig = go.Figure()\n",
        "\n",
        "# Add loss surface\n",
        "fig.add_trace(go.Surface(\n",
        "    x=x_range,\n",
        "    y=y_range,\n",
        "    z=Z_grid,\n",
        "    colorscale='Viridis',\n",
        "    opacity=0.8,\n",
        "    showscale=True,\n",
        "    colorbar=dict(\n",
        "        title=\"Loss\",\n",
        "        tickmode=\"linear\",\n",
        "        tick0=0,\n",
        "        dtick=0.5\n",
        "    ),\n",
        "    contours=dict(\n",
        "        z=dict(\n",
        "            show=True,\n",
        "            usecolormap=True,\n",
        "            highlightcolor=\"limegreen\",\n",
        "            project=dict(z=True)\n",
        "        )\n",
        "    ),\n",
        "    name='Loss Surface'\n",
        "))\n",
        "\n",
        "# Add optimization trajectory\n",
        "fig.add_trace(go.Scatter3d(\n",
        "    x=trajectory_2d[:, 0],\n",
        "    y=trajectory_2d[:, 1],\n",
        "    z=trajectory_losses,\n",
        "    mode='lines+markers',\n",
        "    name='Optimization Path',\n",
        "    line=dict(\n",
        "        color='red',\n",
        "        width=10\n",
        "    ),\n",
        "    marker=dict(\n",
        "        size=8,\n",
        "        color='red',\n",
        "        symbol='circle'\n",
        "    )\n",
        "))\n",
        "\n",
        "# Add start point\n",
        "fig.add_trace(go.Scatter3d(\n",
        "    x=[trajectory_2d[0, 0]],\n",
        "    y=[trajectory_2d[0, 1]],\n",
        "    z=[trajectory_losses[0]],\n",
        "    mode='markers',\n",
        "    name='Start',\n",
        "    marker=dict(\n",
        "        size=20,\n",
        "        color='green',\n",
        "        symbol='diamond'\n",
        "    )\n",
        "))\n",
        "\n",
        "# Add end point\n",
        "fig.add_trace(go.Scatter3d(\n",
        "    x=[trajectory_2d[-1, 0]],\n",
        "    y=[trajectory_2d[-1, 1]],\n",
        "    z=[trajectory_losses[-1]],\n",
        "    mode='markers',\n",
        "    name='End',\n",
        "    marker=dict(\n",
        "        size=20,\n",
        "        color='blue',\n",
        "        symbol='square'\n",
        "    )\n",
        "))\n",
        "\n",
        "# Update layout\n",
        "fig.update_layout(\n",
        "    title=dict(\n",
        "        text='Interactive 3D Loss Landscape with Optimization Trajectory',\n",
        "        font=dict(size=24),\n",
        "        x=0.5,\n",
        "        xanchor='center'\n",
        "    ),\n",
        "    scene=dict(\n",
        "        xaxis=dict(\n",
        "            title='First Principal Component',\n",
        "            gridcolor='rgb(255, 255, 255)',\n",
        "            gridwidth=2\n",
        "        ),\n",
        "        yaxis=dict(\n",
        "            title='Second Principal Component',\n",
        "            gridcolor='rgb(255, 255, 255)',\n",
        "            gridwidth=2\n",
        "        ),\n",
        "        zaxis=dict(\n",
        "            title='Loss',\n",
        "            gridcolor='rgb(255, 255, 255)',\n",
        "            gridwidth=2\n",
        "        ),\n",
        "        camera=dict(\n",
        "            eye=dict(x=1.5, y=1.5, z=1.2),\n",
        "            center=dict(x=0, y=0, z=0)\n",
        "        ),\n",
        "        aspectmode='manual',\n",
        "        aspectratio=dict(x=1, y=1, z=0.7)\n",
        "    ),\n",
        "    width=1400,\n",
        "    height=1000,\n",
        "    legend=dict(\n",
        "        x=0.02,\n",
        "        y=0.98,\n",
        "        bgcolor='rgba(255, 255, 255, 0.9)',\n",
        "        bordercolor='black',\n",
        "        borderwidth=2,\n",
        "        font=dict(size=14)\n",
        "    ),\n",
        "    margin=dict(l=0, r=0, t=50, b=0)\n",
        ")\n",
        "\n",
        "# Show the plot\n",
        "fig.show()\n",
        "\n",
        "# Print summary statistics\n",
        "print(\"\\nOptimization Summary:\")\n",
        "print(f\"Initial Loss: {trajectory_losses[0]:.4f}\")\n",
        "print(f\"Final Loss: {trajectory_losses[-1]:.4f}\")\n",
        "print(f\"Improvement: {(1 - trajectory_losses[-1]/trajectory_losses[0])*100:.1f}%\")\n",
        "print(f\"Number of trajectory points: {len(trajectory_losses)}\")\n",
        "\n",
        "print(\"\\nInteractive controls:\")\n",
        "print(\"- Rotate: Click and drag\")\n",
        "print(\"- Zoom: Scroll or pinch\")\n",
        "print(\"- Pan: Shift + click and drag\")\n",
        "print(\"- Reset: Double click\")\n",
        "print(\"- Hover over trajectory to see loss values\")\n"
      ]
    }
  ],
  "metadata": {
    "kernelspec": {
      "display_name": ".venv",
      "language": "python",
      "name": "python3"
    },
    "language_info": {
      "codemirror_mode": {
        "name": "ipython",
        "version": 3
      },
      "file_extension": ".py",
      "mimetype": "text/x-python",
      "name": "python",
      "nbconvert_exporter": "python",
      "pygments_lexer": "ipython3",
      "version": "3.13.5"
    }
  },
  "nbformat": 4,
  "nbformat_minor": 2
}
